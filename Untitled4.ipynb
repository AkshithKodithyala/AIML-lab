{
  "nbformat": 4,
  "nbformat_minor": 0,
  "metadata": {
    "colab": {
      "provenance": [],
      "authorship_tag": "ABX9TyNlK5k/KjBTpGCQFTFEHlj6",
      "include_colab_link": true
    },
    "kernelspec": {
      "name": "python3",
      "display_name": "Python 3"
    },
    "language_info": {
      "name": "python"
    }
  },
  "cells": [
    {
      "cell_type": "markdown",
      "metadata": {
        "id": "view-in-github",
        "colab_type": "text"
      },
      "source": [
        "<a href=\"https://colab.research.google.com/github/AkshithKodithyala/AIML-lab/blob/main/Untitled4.ipynb\" target=\"_parent\"><img src=\"https://colab.research.google.com/assets/colab-badge.svg\" alt=\"Open In Colab\"/></a>"
      ]
    },
    {
      "cell_type": "code",
      "execution_count": 2,
      "metadata": {
        "colab": {
          "base_uri": "https://localhost:8080/"
        },
        "id": "e1_v4w_rIj5Y",
        "outputId": "b8b3b134-8f87-430b-fcd9-7c866839505b"
      },
      "outputs": [
        {
          "output_type": "stream",
          "name": "stdout",
          "text": [
            "[1 2 3 4 5]\n"
          ]
        }
      ],
      "source": [
        "import numpy as np\n",
        "a = np.array([1, 2, 3, 4, 5])\n",
        "print(a)\n"
      ]
    },
    {
      "cell_type": "code",
      "source": [
        "import pandas as pd\n",
        "b = pd.array([1, 3, 5, 6, 8])\n",
        "print(b)"
      ],
      "metadata": {
        "colab": {
          "base_uri": "https://localhost:8080/"
        },
        "id": "iVmGxKqAI7nw",
        "outputId": "7798da6e-b74b-48b6-894b-dd871ddf41f9"
      },
      "execution_count": 3,
      "outputs": [
        {
          "output_type": "stream",
          "name": "stdout",
          "text": [
            "<IntegerArray>\n",
            "[1, 3, 5, 6, 8]\n",
            "Length: 5, dtype: Int64\n"
          ]
        }
      ]
    },
    {
      "cell_type": "code",
      "source": [
        "import numpy as np\n",
        "list = np.array([1, 2, 3, 4, 5])\n",
        "print(list)"
      ],
      "metadata": {
        "colab": {
          "base_uri": "https://localhost:8080/"
        },
        "id": "GbSAtp5xJA1J",
        "outputId": "806cfc11-85f2-4bd9-b33b-88de9a24f562"
      },
      "execution_count": 4,
      "outputs": [
        {
          "output_type": "stream",
          "name": "stdout",
          "text": [
            "[1 2 3 4 5]\n"
          ]
        }
      ]
    },
    {
      "cell_type": "code",
      "source": [
        "import numpy as np\n",
        "\n",
        "arr = np.array([1, 2, 3, 4, 5])\n",
        "print(arr)"
      ],
      "metadata": {
        "colab": {
          "base_uri": "https://localhost:8080/"
        },
        "id": "C-SahxdJJFz2",
        "outputId": "f20872d2-e6e2-4188-e955-e8c15a4d83e9"
      },
      "execution_count": 5,
      "outputs": [
        {
          "output_type": "stream",
          "name": "stdout",
          "text": [
            "[1 2 3 4 5]\n"
          ]
        }
      ]
    },
    {
      "cell_type": "code",
      "source": [
        "import pandas as pd\n",
        "\n",
        "arr = pd.array([1, 2, 3, 4, 5])\n",
        "print(arr)"
      ],
      "metadata": {
        "colab": {
          "base_uri": "https://localhost:8080/"
        },
        "id": "_cGvSOJmJS4J",
        "outputId": "dfd53c19-7059-47ed-ff53-affd6abd79b7"
      },
      "execution_count": 6,
      "outputs": [
        {
          "output_type": "stream",
          "name": "stdout",
          "text": [
            "<IntegerArray>\n",
            "[1, 2, 3, 4, 5]\n",
            "Length: 5, dtype: Int64\n"
          ]
        }
      ]
    },
    {
      "cell_type": "code",
      "source": [
        "import numpy as np\n",
        "\n",
        "arr = np.array([10, 20, 30, 40, 50])\n",
        "\n",
        "mult_np = arr * 3\n",
        "print(mult_np)\n",
        "\n",
        "div_np = arr / 2\n",
        "print(div_np)\n",
        "\n",
        "pow_np = arr ** 3\n",
        "print(pow_np)"
      ],
      "metadata": {
        "colab": {
          "base_uri": "https://localhost:8080/"
        },
        "id": "wBMVM2QoJbvz",
        "outputId": "b566a2a4-d3b9-450f-f3cf-2c5b414d000f"
      },
      "execution_count": 8,
      "outputs": [
        {
          "output_type": "stream",
          "name": "stdout",
          "text": [
            "[ 30  60  90 120 150]\n",
            "[ 5. 10. 15. 20. 25.]\n",
            "[  1000   8000  27000  64000 125000]\n"
          ]
        }
      ]
    },
    {
      "cell_type": "code",
      "source": [
        "import pandas as pd\n",
        "arr = pd.array([10, 20, 30, 40, 50])\n",
        "\n",
        "mult_pd = arr *5\n",
        "print(mult_pd)\n",
        "\n",
        "div_pd = arr / 2\n",
        "print(div_pd)\n",
        "\n",
        "pow_pd = arr ** 3\n",
        "print(pow_pd)"
      ],
      "metadata": {
        "colab": {
          "base_uri": "https://localhost:8080/"
        },
        "id": "VWhB3ChoJhK8",
        "outputId": "9ca0c5b6-b543-4b4d-9755-a9004ebd0fa8"
      },
      "execution_count": 9,
      "outputs": [
        {
          "output_type": "stream",
          "name": "stdout",
          "text": [
            "<IntegerArray>\n",
            "[50, 100, 150, 200, 250]\n",
            "Length: 5, dtype: Int64\n",
            "<FloatingArray>\n",
            "[5.0, 10.0, 15.0, 20.0, 25.0]\n",
            "Length: 5, dtype: Float64\n",
            "<IntegerArray>\n",
            "[1000, 8000, 27000, 64000, 125000]\n",
            "Length: 5, dtype: Int64\n"
          ]
        }
      ]
    }
  ]
}