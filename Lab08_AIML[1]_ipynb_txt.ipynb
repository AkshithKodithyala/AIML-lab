{
  "cells": [
    {
      "cell_type": "markdown",
      "metadata": {
        "id": "view-in-github",
        "colab_type": "text"
      },
      "source": [
        "<a href=\"https://colab.research.google.com/github/AkshithKodithyala/AIML-lab/blob/main/Lab08_AIML%5B1%5D_ipynb_txt.ipynb\" target=\"_parent\"><img src=\"https://colab.research.google.com/assets/colab-badge.svg\" alt=\"Open In Colab\"/></a>"
      ]
    },
    {
      "cell_type": "markdown",
      "id": "7c5ba4fe",
      "metadata": {
        "id": "7c5ba4fe"
      },
      "source": [
        "<a name='0'></a>\n",
        "# 8. Decision Trees - Classification"
      ]
    },
    {
      "cell_type": "markdown",
      "id": "07494ffb",
      "metadata": {
        "id": "07494ffb"
      },
      "source": [
        "Decision Trees are supervised machine learning algorithms that are used for both regression and classification tasks. Trees are powerful algorithms that can handle complex datasets.\n",
        "\n",
        "In the previous notebook, we learnt to predict the continous values with decision trees (regression). This notebook is for classification.\n",
        "\n",
        "Different to other algorithms, here are two things that trees are very particular about:\n",
        "\n",
        "Here are 7 interesting facts about decision trees:\n",
        "\n",
        "* They do not need the numerical input data to be scaled. Whatever the numerical values are, decision trees don't care.\n",
        "\n",
        "* Decision trees handle categorical features in the raw text format (Scikit-Learn doesn't support this, TensorFlow's trees implementation does).\n",
        "\n",
        "* Different to other complex learning algorithms, the results of decision trees can be interpreted. It's fair to say that decision trees are not blackbox type models.\n",
        "* While most models will suffer from missing values, decision trees are okay with them.\n",
        "* Trees can handle imbalanced datasets. You will only have to adjust the weights of the classes.\n",
        "* Trees can provide the feature importances or how much each feature contributed to the model training results.\n",
        "* Trees are the basic building blocks of ensemble methods such as random forests and gradient boosting machines.\n",
        "\n",
        "The way decision trees works is like the series of if/else questions. Let's say that you want to make a decision of the car to buy. In order to get the right car to buy, you could go on and evaluate the level of the safety, the number of sits and doors by asking series of if like questions.\n",
        "\n",
        "Here is the structure of the decision trees.\n",
        "\n",
        "![Decision Trees.png](https://cdn.hashnode.com/res/hashnode/image/upload/v1632212349927/4XijLSXib.png)\n",
        "\n",
        "\n",
        "A well-known downside of decision trees is that they tend to overfit the data easily(pretty much assumed they will always overfit at first). One way to overcome overfitting is to reduce the maximum depth of the decision tree (refered to as `max_depth`hyperparameter) in decision trees. We will see other techniques to avoid overfitting."
      ]
    },
    {
      "cell_type": "markdown",
      "id": "d4e2c5a6",
      "metadata": {
        "id": "d4e2c5a6"
      },
      "source": [
        "## Decision Trees for Classification"
      ]
    },
    {
      "cell_type": "markdown",
      "id": "ae5e8372",
      "metadata": {
        "id": "ae5e8372"
      },
      "source": [
        "### Contents\n",
        "\n",
        "* [1 - Imports](#1)\n",
        "* [2 - Loading the data](#2)\n",
        "* [3 - Exploratory Analysis](#3)\n",
        "* [4 - Preprocessing the data](#4)\n",
        "* [5 - Training Decision Trees](#5)\n",
        "* [6 - Evaluating Decision Trees](#6)\n",
        "* [7 - Improving Decision Trees](#7)"
      ]
    },
    {
      "cell_type": "markdown",
      "id": "99058d12",
      "metadata": {
        "id": "99058d12"
      },
      "source": [
        "<a name='1'></a>\n",
        "## 1 - Imports"
      ]
    },
    {
      "cell_type": "code",
      "execution_count": 1,
      "id": "df278c5f",
      "metadata": {
        "id": "df278c5f"
      },
      "outputs": [],
      "source": [
        "import numpy as np\n",
        "import pandas as pd\n",
        "import seaborn as sns\n",
        "import sklearn\n",
        "from sklearn.datasets import fetch_openml\n",
        "import matplotlib.pyplot as plt\n",
        "%matplotlib inline"
      ]
    },
    {
      "cell_type": "markdown",
      "id": "35699c38",
      "metadata": {
        "id": "35699c38"
      },
      "source": [
        "<a name='2'></a>\n",
        "\n",
        "## 2 - Loading the data\n",
        "\n",
        "In this classification task with decision trees, we will use a car dataset that is avilable at [OpenML](https://www.openml.org/d/21) to predict the car acceptability given the information about the car. We will load it with Sklearn `fetch_openml` function.\n",
        "\n",
        "The version of the data we are fetching is 2. In the version 1 of the dataset, the target class had 4 classes (unacc, acc, good, vgood) but in the second version, the majority class is Positive(P) whereas the rest are Negative(P). If you want to see version 1, you can change version parameter in a cell below.\n",
        "\n",
        "\n",
        "Here are the informations about the features:\n",
        "\n",
        "* *buying*: The buying price of the car(vhigh, high, med, low)\n",
        "* maint: The maintainance price of the car(high, high, med, low)\n",
        "* *doors*: The number of doors (2,3,4,5more)\n",
        "* *persons*: The number of persons that can be carried the car. They are 2, 4, and more.\n",
        "* *lug_boot*: The size of the luggage boot (small, med, big)\n",
        "* *safety*: Estimated safefy of the car(low, med, high)\n",
        "* *BinaryClass(target feature)*: The car acceptability class. Either positive(P) or negative(N).\n"
      ]
    },
    {
      "cell_type": "code",
      "source": [
        "fetch_openml(data_id=5).keys"
      ],
      "metadata": {
        "collapsed": true,
        "id": "JCNcNy_-iJCY",
        "outputId": "b6434cf8-5a77-4ccd-9608-cf63802d9325",
        "colab": {
          "base_uri": "https://localhost:8080/"
        }
      },
      "id": "JCNcNy_-iJCY",
      "execution_count": 2,
      "outputs": [
        {
          "output_type": "execute_result",
          "data": {
            "text/plain": [
              "<function Bunch.keys>"
            ]
          },
          "metadata": {},
          "execution_count": 2
        }
      ]
    },
    {
      "cell_type": "code",
      "execution_count": 3,
      "id": "d3083946",
      "metadata": {
        "id": "d3083946"
      },
      "outputs": [],
      "source": [
        "from sklearn.datasets import fetch_openml\n",
        "\n",
        "car_data = fetch_openml(name='car', version=2,\n",
        "                        parser='auto')"
      ]
    },
    {
      "cell_type": "code",
      "execution_count": 4,
      "id": "46c09852",
      "metadata": {
        "id": "46c09852",
        "outputId": "4ff1a4b3-d0ba-4732-ea6a-b06622bdaa5d",
        "colab": {
          "base_uri": "https://localhost:8080/",
          "height": 187
        },
        "collapsed": true
      },
      "outputs": [
        {
          "output_type": "execute_result",
          "data": {
            "text/plain": [
              "sklearn.utils._bunch.Bunch"
            ],
            "text/html": [
              "<div style=\"max-width:800px; border: 1px solid var(--colab-border-color);\"><style>\n",
              "      pre.function-repr-contents {\n",
              "        overflow-x: auto;\n",
              "        padding: 8px 12px;\n",
              "        max-height: 500px;\n",
              "      }\n",
              "\n",
              "      pre.function-repr-contents.function-repr-contents-collapsed {\n",
              "        cursor: pointer;\n",
              "        max-height: 100px;\n",
              "      }\n",
              "    </style>\n",
              "    <pre style=\"white-space: initial; background:\n",
              "         var(--colab-secondary-surface-color); padding: 8px 12px;\n",
              "         border-bottom: 1px solid var(--colab-border-color);\"><b>sklearn.utils._bunch.Bunch</b><br/>def __init__(**kwargs)</pre><pre class=\"function-repr-contents function-repr-contents-collapsed\" style=\"\"><a class=\"filepath\" style=\"display:none\" href=\"#\">/usr/local/lib/python3.10/dist-packages/sklearn/utils/_bunch.py</a>Container object exposing keys as attributes.\n",
              "\n",
              "Bunch objects are sometimes used as an output for functions and methods.\n",
              "They extend dictionaries by enabling values to be accessed by key,\n",
              "`bunch[&quot;value_key&quot;]`, or by an attribute, `bunch.value_key`.\n",
              "\n",
              "Examples\n",
              "--------\n",
              "&gt;&gt;&gt; from sklearn.utils import Bunch\n",
              "&gt;&gt;&gt; b = Bunch(a=1, b=2)\n",
              "&gt;&gt;&gt; b[&#x27;b&#x27;]\n",
              "2\n",
              "&gt;&gt;&gt; b.b\n",
              "2\n",
              "&gt;&gt;&gt; b.a = 3\n",
              "&gt;&gt;&gt; b[&#x27;a&#x27;]\n",
              "3\n",
              "&gt;&gt;&gt; b.c = 6\n",
              "&gt;&gt;&gt; b[&#x27;c&#x27;]\n",
              "6</pre>\n",
              "      <script>\n",
              "      if (google.colab.kernel.accessAllowed && google.colab.files && google.colab.files.view) {\n",
              "        for (const element of document.querySelectorAll('.filepath')) {\n",
              "          element.style.display = 'block'\n",
              "          element.onclick = (event) => {\n",
              "            event.preventDefault();\n",
              "            event.stopPropagation();\n",
              "            google.colab.files.view(element.textContent, 4);\n",
              "          };\n",
              "        }\n",
              "      }\n",
              "      for (const element of document.querySelectorAll('.function-repr-contents')) {\n",
              "        element.onclick = (event) => {\n",
              "          event.preventDefault();\n",
              "          event.stopPropagation();\n",
              "          element.classList.toggle('function-repr-contents-collapsed');\n",
              "        };\n",
              "      }\n",
              "      </script>\n",
              "      </div>"
            ]
          },
          "metadata": {},
          "execution_count": 4
        }
      ],
      "source": [
        "type(car_data)"
      ]
    },
    {
      "cell_type": "code",
      "execution_count": 5,
      "id": "154ed67e",
      "metadata": {
        "id": "154ed67e",
        "outputId": "f75ffb77-71ee-4600-9a86-ae5404f4fd79",
        "colab": {
          "base_uri": "https://localhost:8080/"
        }
      },
      "outputs": [
        {
          "output_type": "execute_result",
          "data": {
            "text/plain": [
              "dict_keys(['data', 'target', 'frame', 'categories', 'feature_names', 'target_names', 'DESCR', 'details', 'url'])"
            ]
          },
          "metadata": {},
          "execution_count": 5
        }
      ],
      "source": [
        "car_data.keys()"
      ]
    },
    {
      "cell_type": "code",
      "execution_count": 6,
      "id": "d93da4ad",
      "metadata": {
        "id": "d93da4ad",
        "outputId": "b9f52d87-f1ee-4f09-ebf4-3d80d132c4c4",
        "colab": {
          "base_uri": "https://localhost:8080/"
        }
      },
      "outputs": [
        {
          "output_type": "execute_result",
          "data": {
            "text/plain": [
              "(['buying', 'maint', 'doors', 'persons', 'lug_boot', 'safety'],\n",
              " binaryClass\n",
              " P    1210\n",
              " N     518\n",
              " Name: count, dtype: int64)"
            ]
          },
          "metadata": {},
          "execution_count": 6
        }
      ],
      "source": [
        "car_data.feature_names, car_data.target.value_counts()"
      ]
    },
    {
      "cell_type": "code",
      "execution_count": 7,
      "id": "69e438fb",
      "metadata": {
        "id": "69e438fb",
        "outputId": "3db5bf4f-2f91-45ac-eda3-e256b14653f7",
        "colab": {
          "base_uri": "https://localhost:8080/"
        }
      },
      "outputs": [
        {
          "output_type": "stream",
          "name": "stdout",
          "text": [
            "**Author**:   \n",
            "**Source**: Unknown - Date unknown  \n",
            "**Please cite**:   \n",
            "\n",
            "Binarized version of the original data set (see version 1). The multi-class target feature is converted to a two-class nominal target feature by re-labeling the majority class as positive ('P') and all others as negative ('N'). Originally converted by Quan Sun.\n",
            "\n",
            "Downloaded from openml.org.\n"
          ]
        }
      ],
      "source": [
        "# Data description\n",
        "\n",
        "print(car_data.DESCR)"
      ]
    },
    {
      "cell_type": "code",
      "execution_count": 8,
      "id": "d7180991",
      "metadata": {
        "id": "d7180991",
        "outputId": "47443242-490c-4358-92b3-8242efbb348b",
        "colab": {
          "base_uri": "https://localhost:8080/"
        }
      },
      "outputs": [
        {
          "output_type": "execute_result",
          "data": {
            "text/plain": [
              "['buying', 'maint', 'doors', 'persons', 'lug_boot', 'safety']"
            ]
          },
          "metadata": {},
          "execution_count": 8
        }
      ],
      "source": [
        "# Displaying feature names\n",
        "\n",
        "car_data.feature_names"
      ]
    },
    {
      "cell_type": "code",
      "execution_count": 9,
      "id": "e3ba092e",
      "metadata": {
        "id": "e3ba092e",
        "outputId": "2b7eb563-aebd-4ecf-bdd3-004ea92387db",
        "colab": {
          "base_uri": "https://localhost:8080/",
          "height": 206
        }
      },
      "outputs": [
        {
          "output_type": "execute_result",
          "data": {
            "text/plain": [
              "  buying  maint doors persons lug_boot safety binaryClass\n",
              "0  vhigh  vhigh     2       2    small    low           P\n",
              "1  vhigh  vhigh     2       2    small    med           P\n",
              "2  vhigh  vhigh     2       2    small   high           P\n",
              "3  vhigh  vhigh     2       2      med    low           P\n",
              "4  vhigh  vhigh     2       2      med    med           P"
            ],
            "text/html": [
              "\n",
              "  <div id=\"df-441258a4-c15b-419f-b183-142f2889cc2f\" class=\"colab-df-container\">\n",
              "    <div>\n",
              "<style scoped>\n",
              "    .dataframe tbody tr th:only-of-type {\n",
              "        vertical-align: middle;\n",
              "    }\n",
              "\n",
              "    .dataframe tbody tr th {\n",
              "        vertical-align: top;\n",
              "    }\n",
              "\n",
              "    .dataframe thead th {\n",
              "        text-align: right;\n",
              "    }\n",
              "</style>\n",
              "<table border=\"1\" class=\"dataframe\">\n",
              "  <thead>\n",
              "    <tr style=\"text-align: right;\">\n",
              "      <th></th>\n",
              "      <th>buying</th>\n",
              "      <th>maint</th>\n",
              "      <th>doors</th>\n",
              "      <th>persons</th>\n",
              "      <th>lug_boot</th>\n",
              "      <th>safety</th>\n",
              "      <th>binaryClass</th>\n",
              "    </tr>\n",
              "  </thead>\n",
              "  <tbody>\n",
              "    <tr>\n",
              "      <th>0</th>\n",
              "      <td>vhigh</td>\n",
              "      <td>vhigh</td>\n",
              "      <td>2</td>\n",
              "      <td>2</td>\n",
              "      <td>small</td>\n",
              "      <td>low</td>\n",
              "      <td>P</td>\n",
              "    </tr>\n",
              "    <tr>\n",
              "      <th>1</th>\n",
              "      <td>vhigh</td>\n",
              "      <td>vhigh</td>\n",
              "      <td>2</td>\n",
              "      <td>2</td>\n",
              "      <td>small</td>\n",
              "      <td>med</td>\n",
              "      <td>P</td>\n",
              "    </tr>\n",
              "    <tr>\n",
              "      <th>2</th>\n",
              "      <td>vhigh</td>\n",
              "      <td>vhigh</td>\n",
              "      <td>2</td>\n",
              "      <td>2</td>\n",
              "      <td>small</td>\n",
              "      <td>high</td>\n",
              "      <td>P</td>\n",
              "    </tr>\n",
              "    <tr>\n",
              "      <th>3</th>\n",
              "      <td>vhigh</td>\n",
              "      <td>vhigh</td>\n",
              "      <td>2</td>\n",
              "      <td>2</td>\n",
              "      <td>med</td>\n",
              "      <td>low</td>\n",
              "      <td>P</td>\n",
              "    </tr>\n",
              "    <tr>\n",
              "      <th>4</th>\n",
              "      <td>vhigh</td>\n",
              "      <td>vhigh</td>\n",
              "      <td>2</td>\n",
              "      <td>2</td>\n",
              "      <td>med</td>\n",
              "      <td>med</td>\n",
              "      <td>P</td>\n",
              "    </tr>\n",
              "  </tbody>\n",
              "</table>\n",
              "</div>\n",
              "    <div class=\"colab-df-buttons\">\n",
              "\n",
              "  <div class=\"colab-df-container\">\n",
              "    <button class=\"colab-df-convert\" onclick=\"convertToInteractive('df-441258a4-c15b-419f-b183-142f2889cc2f')\"\n",
              "            title=\"Convert this dataframe to an interactive table.\"\n",
              "            style=\"display:none;\">\n",
              "\n",
              "  <svg xmlns=\"http://www.w3.org/2000/svg\" height=\"24px\" viewBox=\"0 -960 960 960\">\n",
              "    <path d=\"M120-120v-720h720v720H120Zm60-500h600v-160H180v160Zm220 220h160v-160H400v160Zm0 220h160v-160H400v160ZM180-400h160v-160H180v160Zm440 0h160v-160H620v160ZM180-180h160v-160H180v160Zm440 0h160v-160H620v160Z\"/>\n",
              "  </svg>\n",
              "    </button>\n",
              "\n",
              "  <style>\n",
              "    .colab-df-container {\n",
              "      display:flex;\n",
              "      gap: 12px;\n",
              "    }\n",
              "\n",
              "    .colab-df-convert {\n",
              "      background-color: #E8F0FE;\n",
              "      border: none;\n",
              "      border-radius: 50%;\n",
              "      cursor: pointer;\n",
              "      display: none;\n",
              "      fill: #1967D2;\n",
              "      height: 32px;\n",
              "      padding: 0 0 0 0;\n",
              "      width: 32px;\n",
              "    }\n",
              "\n",
              "    .colab-df-convert:hover {\n",
              "      background-color: #E2EBFA;\n",
              "      box-shadow: 0px 1px 2px rgba(60, 64, 67, 0.3), 0px 1px 3px 1px rgba(60, 64, 67, 0.15);\n",
              "      fill: #174EA6;\n",
              "    }\n",
              "\n",
              "    .colab-df-buttons div {\n",
              "      margin-bottom: 4px;\n",
              "    }\n",
              "\n",
              "    [theme=dark] .colab-df-convert {\n",
              "      background-color: #3B4455;\n",
              "      fill: #D2E3FC;\n",
              "    }\n",
              "\n",
              "    [theme=dark] .colab-df-convert:hover {\n",
              "      background-color: #434B5C;\n",
              "      box-shadow: 0px 1px 3px 1px rgba(0, 0, 0, 0.15);\n",
              "      filter: drop-shadow(0px 1px 2px rgba(0, 0, 0, 0.3));\n",
              "      fill: #FFFFFF;\n",
              "    }\n",
              "  </style>\n",
              "\n",
              "    <script>\n",
              "      const buttonEl =\n",
              "        document.querySelector('#df-441258a4-c15b-419f-b183-142f2889cc2f button.colab-df-convert');\n",
              "      buttonEl.style.display =\n",
              "        google.colab.kernel.accessAllowed ? 'block' : 'none';\n",
              "\n",
              "      async function convertToInteractive(key) {\n",
              "        const element = document.querySelector('#df-441258a4-c15b-419f-b183-142f2889cc2f');\n",
              "        const dataTable =\n",
              "          await google.colab.kernel.invokeFunction('convertToInteractive',\n",
              "                                                    [key], {});\n",
              "        if (!dataTable) return;\n",
              "\n",
              "        const docLinkHtml = 'Like what you see? Visit the ' +\n",
              "          '<a target=\"_blank\" href=https://colab.research.google.com/notebooks/data_table.ipynb>data table notebook</a>'\n",
              "          + ' to learn more about interactive tables.';\n",
              "        element.innerHTML = '';\n",
              "        dataTable['output_type'] = 'display_data';\n",
              "        await google.colab.output.renderOutput(dataTable, element);\n",
              "        const docLink = document.createElement('div');\n",
              "        docLink.innerHTML = docLinkHtml;\n",
              "        element.appendChild(docLink);\n",
              "      }\n",
              "    </script>\n",
              "  </div>\n",
              "\n",
              "\n",
              "<div id=\"df-a7e87e05-bd89-4199-8b7b-4fdadc235c8f\">\n",
              "  <button class=\"colab-df-quickchart\" onclick=\"quickchart('df-a7e87e05-bd89-4199-8b7b-4fdadc235c8f')\"\n",
              "            title=\"Suggest charts\"\n",
              "            style=\"display:none;\">\n",
              "\n",
              "<svg xmlns=\"http://www.w3.org/2000/svg\" height=\"24px\"viewBox=\"0 0 24 24\"\n",
              "     width=\"24px\">\n",
              "    <g>\n",
              "        <path d=\"M19 3H5c-1.1 0-2 .9-2 2v14c0 1.1.9 2 2 2h14c1.1 0 2-.9 2-2V5c0-1.1-.9-2-2-2zM9 17H7v-7h2v7zm4 0h-2V7h2v10zm4 0h-2v-4h2v4z\"/>\n",
              "    </g>\n",
              "</svg>\n",
              "  </button>\n",
              "\n",
              "<style>\n",
              "  .colab-df-quickchart {\n",
              "      --bg-color: #E8F0FE;\n",
              "      --fill-color: #1967D2;\n",
              "      --hover-bg-color: #E2EBFA;\n",
              "      --hover-fill-color: #174EA6;\n",
              "      --disabled-fill-color: #AAA;\n",
              "      --disabled-bg-color: #DDD;\n",
              "  }\n",
              "\n",
              "  [theme=dark] .colab-df-quickchart {\n",
              "      --bg-color: #3B4455;\n",
              "      --fill-color: #D2E3FC;\n",
              "      --hover-bg-color: #434B5C;\n",
              "      --hover-fill-color: #FFFFFF;\n",
              "      --disabled-bg-color: #3B4455;\n",
              "      --disabled-fill-color: #666;\n",
              "  }\n",
              "\n",
              "  .colab-df-quickchart {\n",
              "    background-color: var(--bg-color);\n",
              "    border: none;\n",
              "    border-radius: 50%;\n",
              "    cursor: pointer;\n",
              "    display: none;\n",
              "    fill: var(--fill-color);\n",
              "    height: 32px;\n",
              "    padding: 0;\n",
              "    width: 32px;\n",
              "  }\n",
              "\n",
              "  .colab-df-quickchart:hover {\n",
              "    background-color: var(--hover-bg-color);\n",
              "    box-shadow: 0 1px 2px rgba(60, 64, 67, 0.3), 0 1px 3px 1px rgba(60, 64, 67, 0.15);\n",
              "    fill: var(--button-hover-fill-color);\n",
              "  }\n",
              "\n",
              "  .colab-df-quickchart-complete:disabled,\n",
              "  .colab-df-quickchart-complete:disabled:hover {\n",
              "    background-color: var(--disabled-bg-color);\n",
              "    fill: var(--disabled-fill-color);\n",
              "    box-shadow: none;\n",
              "  }\n",
              "\n",
              "  .colab-df-spinner {\n",
              "    border: 2px solid var(--fill-color);\n",
              "    border-color: transparent;\n",
              "    border-bottom-color: var(--fill-color);\n",
              "    animation:\n",
              "      spin 1s steps(1) infinite;\n",
              "  }\n",
              "\n",
              "  @keyframes spin {\n",
              "    0% {\n",
              "      border-color: transparent;\n",
              "      border-bottom-color: var(--fill-color);\n",
              "      border-left-color: var(--fill-color);\n",
              "    }\n",
              "    20% {\n",
              "      border-color: transparent;\n",
              "      border-left-color: var(--fill-color);\n",
              "      border-top-color: var(--fill-color);\n",
              "    }\n",
              "    30% {\n",
              "      border-color: transparent;\n",
              "      border-left-color: var(--fill-color);\n",
              "      border-top-color: var(--fill-color);\n",
              "      border-right-color: var(--fill-color);\n",
              "    }\n",
              "    40% {\n",
              "      border-color: transparent;\n",
              "      border-right-color: var(--fill-color);\n",
              "      border-top-color: var(--fill-color);\n",
              "    }\n",
              "    60% {\n",
              "      border-color: transparent;\n",
              "      border-right-color: var(--fill-color);\n",
              "    }\n",
              "    80% {\n",
              "      border-color: transparent;\n",
              "      border-right-color: var(--fill-color);\n",
              "      border-bottom-color: var(--fill-color);\n",
              "    }\n",
              "    90% {\n",
              "      border-color: transparent;\n",
              "      border-bottom-color: var(--fill-color);\n",
              "    }\n",
              "  }\n",
              "</style>\n",
              "\n",
              "  <script>\n",
              "    async function quickchart(key) {\n",
              "      const quickchartButtonEl =\n",
              "        document.querySelector('#' + key + ' button');\n",
              "      quickchartButtonEl.disabled = true;  // To prevent multiple clicks.\n",
              "      quickchartButtonEl.classList.add('colab-df-spinner');\n",
              "      try {\n",
              "        const charts = await google.colab.kernel.invokeFunction(\n",
              "            'suggestCharts', [key], {});\n",
              "      } catch (error) {\n",
              "        console.error('Error during call to suggestCharts:', error);\n",
              "      }\n",
              "      quickchartButtonEl.classList.remove('colab-df-spinner');\n",
              "      quickchartButtonEl.classList.add('colab-df-quickchart-complete');\n",
              "    }\n",
              "    (() => {\n",
              "      let quickchartButtonEl =\n",
              "        document.querySelector('#df-a7e87e05-bd89-4199-8b7b-4fdadc235c8f button');\n",
              "      quickchartButtonEl.style.display =\n",
              "        google.colab.kernel.accessAllowed ? 'block' : 'none';\n",
              "    })();\n",
              "  </script>\n",
              "</div>\n",
              "\n",
              "    </div>\n",
              "  </div>\n"
            ],
            "application/vnd.google.colaboratory.intrinsic+json": {
              "type": "dataframe",
              "variable_name": "car_data",
              "summary": "{\n  \"name\": \"car_data\",\n  \"rows\": 1728,\n  \"fields\": [\n    {\n      \"column\": \"buying\",\n      \"properties\": {\n        \"dtype\": \"category\",\n        \"num_unique_values\": 4,\n        \"samples\": [\n          \"high\",\n          \"low\",\n          \"vhigh\"\n        ],\n        \"semantic_type\": \"\",\n        \"description\": \"\"\n      }\n    },\n    {\n      \"column\": \"maint\",\n      \"properties\": {\n        \"dtype\": \"category\",\n        \"num_unique_values\": 4,\n        \"samples\": [\n          \"high\",\n          \"low\",\n          \"vhigh\"\n        ],\n        \"semantic_type\": \"\",\n        \"description\": \"\"\n      }\n    },\n    {\n      \"column\": \"doors\",\n      \"properties\": {\n        \"dtype\": \"category\",\n        \"num_unique_values\": 4,\n        \"samples\": [\n          \"3\",\n          \"5more\",\n          \"2\"\n        ],\n        \"semantic_type\": \"\",\n        \"description\": \"\"\n      }\n    },\n    {\n      \"column\": \"persons\",\n      \"properties\": {\n        \"dtype\": \"category\",\n        \"num_unique_values\": 3,\n        \"samples\": [\n          \"2\",\n          \"4\",\n          \"more\"\n        ],\n        \"semantic_type\": \"\",\n        \"description\": \"\"\n      }\n    },\n    {\n      \"column\": \"lug_boot\",\n      \"properties\": {\n        \"dtype\": \"category\",\n        \"num_unique_values\": 3,\n        \"samples\": [\n          \"small\",\n          \"med\",\n          \"big\"\n        ],\n        \"semantic_type\": \"\",\n        \"description\": \"\"\n      }\n    },\n    {\n      \"column\": \"safety\",\n      \"properties\": {\n        \"dtype\": \"category\",\n        \"num_unique_values\": 3,\n        \"samples\": [\n          \"low\",\n          \"med\",\n          \"high\"\n        ],\n        \"semantic_type\": \"\",\n        \"description\": \"\"\n      }\n    },\n    {\n      \"column\": \"binaryClass\",\n      \"properties\": {\n        \"dtype\": \"category\",\n        \"num_unique_values\": 2,\n        \"samples\": [\n          \"N\",\n          \"P\"\n        ],\n        \"semantic_type\": \"\",\n        \"description\": \"\"\n      }\n    }\n  ]\n}"
            }
          },
          "metadata": {},
          "execution_count": 9
        }
      ],
      "source": [
        "# Getting the whole dataframe\n",
        "car_data = car_data.frame\n",
        "car_data.head()"
      ]
    },
    {
      "cell_type": "code",
      "execution_count": 10,
      "id": "2f05b049",
      "metadata": {
        "id": "2f05b049",
        "outputId": "a6afe8e5-911d-48c5-c891-0ff9ddfd53bc",
        "colab": {
          "base_uri": "https://localhost:8080/",
          "height": 204
        }
      },
      "outputs": [
        {
          "output_type": "execute_result",
          "data": {
            "text/plain": [
              "pandas.core.frame.DataFrame"
            ],
            "text/html": [
              "<div style=\"max-width:800px; border: 1px solid var(--colab-border-color);\"><style>\n",
              "      pre.function-repr-contents {\n",
              "        overflow-x: auto;\n",
              "        padding: 8px 12px;\n",
              "        max-height: 500px;\n",
              "      }\n",
              "\n",
              "      pre.function-repr-contents.function-repr-contents-collapsed {\n",
              "        cursor: pointer;\n",
              "        max-height: 100px;\n",
              "      }\n",
              "    </style>\n",
              "    <pre style=\"white-space: initial; background:\n",
              "         var(--colab-secondary-surface-color); padding: 8px 12px;\n",
              "         border-bottom: 1px solid var(--colab-border-color);\"><b>pandas.core.frame.DataFrame</b><br/>def __init__(data=None, index: Axes | None=None, columns: Axes | None=None, dtype: Dtype | None=None, copy: bool | None=None) -&gt; None</pre><pre class=\"function-repr-contents function-repr-contents-collapsed\" style=\"\"><a class=\"filepath\" style=\"display:none\" href=\"#\">/usr/local/lib/python3.10/dist-packages/pandas/core/frame.py</a>Two-dimensional, size-mutable, potentially heterogeneous tabular data.\n",
              "\n",
              "Data structure also contains labeled axes (rows and columns).\n",
              "Arithmetic operations align on both row and column labels. Can be\n",
              "thought of as a dict-like container for Series objects. The primary\n",
              "pandas data structure.\n",
              "\n",
              "Parameters\n",
              "----------\n",
              "data : ndarray (structured or homogeneous), Iterable, dict, or DataFrame\n",
              "    Dict can contain Series, arrays, constants, dataclass or list-like objects. If\n",
              "    data is a dict, column order follows insertion-order. If a dict contains Series\n",
              "    which have an index defined, it is aligned by its index. This alignment also\n",
              "    occurs if data is a Series or a DataFrame itself. Alignment is done on\n",
              "    Series/DataFrame inputs.\n",
              "\n",
              "    If data is a list of dicts, column order follows insertion-order.\n",
              "\n",
              "index : Index or array-like\n",
              "    Index to use for resulting frame. Will default to RangeIndex if\n",
              "    no indexing information part of input data and no index provided.\n",
              "columns : Index or array-like\n",
              "    Column labels to use for resulting frame when data does not have them,\n",
              "    defaulting to RangeIndex(0, 1, 2, ..., n). If data contains column labels,\n",
              "    will perform column selection instead.\n",
              "dtype : dtype, default None\n",
              "    Data type to force. Only a single dtype is allowed. If None, infer.\n",
              "copy : bool or None, default None\n",
              "    Copy data from inputs.\n",
              "    For dict data, the default of None behaves like ``copy=True``.  For DataFrame\n",
              "    or 2d ndarray input, the default of None behaves like ``copy=False``.\n",
              "    If data is a dict containing one or more Series (possibly of different dtypes),\n",
              "    ``copy=False`` will ensure that these inputs are not copied.\n",
              "\n",
              "    .. versionchanged:: 1.3.0\n",
              "\n",
              "See Also\n",
              "--------\n",
              "DataFrame.from_records : Constructor from tuples, also record arrays.\n",
              "DataFrame.from_dict : From dicts of Series, arrays, or dicts.\n",
              "read_csv : Read a comma-separated values (csv) file into DataFrame.\n",
              "read_table : Read general delimited file into DataFrame.\n",
              "read_clipboard : Read text from clipboard into DataFrame.\n",
              "\n",
              "Notes\n",
              "-----\n",
              "Please reference the :ref:`User Guide &lt;basics.dataframe&gt;` for more information.\n",
              "\n",
              "Examples\n",
              "--------\n",
              "Constructing DataFrame from a dictionary.\n",
              "\n",
              "&gt;&gt;&gt; d = {&#x27;col1&#x27;: [1, 2], &#x27;col2&#x27;: [3, 4]}\n",
              "&gt;&gt;&gt; df = pd.DataFrame(data=d)\n",
              "&gt;&gt;&gt; df\n",
              "   col1  col2\n",
              "0     1     3\n",
              "1     2     4\n",
              "\n",
              "Notice that the inferred dtype is int64.\n",
              "\n",
              "&gt;&gt;&gt; df.dtypes\n",
              "col1    int64\n",
              "col2    int64\n",
              "dtype: object\n",
              "\n",
              "To enforce a single dtype:\n",
              "\n",
              "&gt;&gt;&gt; df = pd.DataFrame(data=d, dtype=np.int8)\n",
              "&gt;&gt;&gt; df.dtypes\n",
              "col1    int8\n",
              "col2    int8\n",
              "dtype: object\n",
              "\n",
              "Constructing DataFrame from a dictionary including Series:\n",
              "\n",
              "&gt;&gt;&gt; d = {&#x27;col1&#x27;: [0, 1, 2, 3], &#x27;col2&#x27;: pd.Series([2, 3], index=[2, 3])}\n",
              "&gt;&gt;&gt; pd.DataFrame(data=d, index=[0, 1, 2, 3])\n",
              "   col1  col2\n",
              "0     0   NaN\n",
              "1     1   NaN\n",
              "2     2   2.0\n",
              "3     3   3.0\n",
              "\n",
              "Constructing DataFrame from numpy ndarray:\n",
              "\n",
              "&gt;&gt;&gt; df2 = pd.DataFrame(np.array([[1, 2, 3], [4, 5, 6], [7, 8, 9]]),\n",
              "...                    columns=[&#x27;a&#x27;, &#x27;b&#x27;, &#x27;c&#x27;])\n",
              "&gt;&gt;&gt; df2\n",
              "   a  b  c\n",
              "0  1  2  3\n",
              "1  4  5  6\n",
              "2  7  8  9\n",
              "\n",
              "Constructing DataFrame from a numpy ndarray that has labeled columns:\n",
              "\n",
              "&gt;&gt;&gt; data = np.array([(1, 2, 3), (4, 5, 6), (7, 8, 9)],\n",
              "...                 dtype=[(&quot;a&quot;, &quot;i4&quot;), (&quot;b&quot;, &quot;i4&quot;), (&quot;c&quot;, &quot;i4&quot;)])\n",
              "&gt;&gt;&gt; df3 = pd.DataFrame(data, columns=[&#x27;c&#x27;, &#x27;a&#x27;])\n",
              "...\n",
              "&gt;&gt;&gt; df3\n",
              "   c  a\n",
              "0  3  1\n",
              "1  6  4\n",
              "2  9  7\n",
              "\n",
              "Constructing DataFrame from dataclass:\n",
              "\n",
              "&gt;&gt;&gt; from dataclasses import make_dataclass\n",
              "&gt;&gt;&gt; Point = make_dataclass(&quot;Point&quot;, [(&quot;x&quot;, int), (&quot;y&quot;, int)])\n",
              "&gt;&gt;&gt; pd.DataFrame([Point(0, 0), Point(0, 3), Point(2, 3)])\n",
              "   x  y\n",
              "0  0  0\n",
              "1  0  3\n",
              "2  2  3\n",
              "\n",
              "Constructing DataFrame from Series/DataFrame:\n",
              "\n",
              "&gt;&gt;&gt; ser = pd.Series([1, 2, 3], index=[&quot;a&quot;, &quot;b&quot;, &quot;c&quot;])\n",
              "&gt;&gt;&gt; df = pd.DataFrame(data=ser, index=[&quot;a&quot;, &quot;c&quot;])\n",
              "&gt;&gt;&gt; df\n",
              "   0\n",
              "a  1\n",
              "c  3\n",
              "\n",
              "&gt;&gt;&gt; df1 = pd.DataFrame([1, 2, 3], index=[&quot;a&quot;, &quot;b&quot;, &quot;c&quot;], columns=[&quot;x&quot;])\n",
              "&gt;&gt;&gt; df2 = pd.DataFrame(data=df1, index=[&quot;a&quot;, &quot;c&quot;])\n",
              "&gt;&gt;&gt; df2\n",
              "   x\n",
              "a  1\n",
              "c  3</pre>\n",
              "      <script>\n",
              "      if (google.colab.kernel.accessAllowed && google.colab.files && google.colab.files.view) {\n",
              "        for (const element of document.querySelectorAll('.filepath')) {\n",
              "          element.style.display = 'block'\n",
              "          element.onclick = (event) => {\n",
              "            event.preventDefault();\n",
              "            event.stopPropagation();\n",
              "            google.colab.files.view(element.textContent, 509);\n",
              "          };\n",
              "        }\n",
              "      }\n",
              "      for (const element of document.querySelectorAll('.function-repr-contents')) {\n",
              "        element.onclick = (event) => {\n",
              "          event.preventDefault();\n",
              "          event.stopPropagation();\n",
              "          element.classList.toggle('function-repr-contents-collapsed');\n",
              "        };\n",
              "      }\n",
              "      </script>\n",
              "      </div>"
            ]
          },
          "metadata": {},
          "execution_count": 10
        }
      ],
      "source": [
        "type(car_data)"
      ]
    },
    {
      "cell_type": "markdown",
      "id": "e9906083",
      "metadata": {
        "id": "e9906083"
      },
      "source": [
        "Before doing exploratory analysis, let's get the training and test data."
      ]
    },
    {
      "cell_type": "code",
      "source": [
        "#car_data.columns\n",
        "l = len(car_data.columns)\n",
        "for i in range(l):\n",
        "  sns.jointplot(x=car_data.columns[i],y='binaryClass',\n",
        "              data=car_data,palette='rainbow')\n"
      ],
      "metadata": {
        "id": "qLaI-YdznNtb",
        "outputId": "e7d08817-1c5d-45d8-fa47-1b8e8ba2b4a2",
        "colab": {
          "base_uri": "https://localhost:8080/",
          "height": 1000
        }
      },
      "id": "qLaI-YdznNtb",
      "execution_count": 11,
      "outputs": [
        {
          "output_type": "display_data",
          "data": {
            "text/plain": [
              "<Figure size 600x600 with 3 Axes>"
            ],
            "image/png": "[encoded data removed]"
          },
          "metadata": {}
        },
        {
          "output_type": "display_data",
          "data": {
            "text/plain": [
              "<Figure size 600x600 with 3 Axes>"
            ],
            "image/png": "[encoded data removed]"
          },
          "metadata": {}
        },
        {
          "output_type": "display_data",
          "data": {
            "text/plain": [
              "<Figure size 600x600 with 3 Axes>"
            ],
            "image/png": "[encoded data removed]"
          },
          "metadata": {}
        },
        {
          "output_type": "display_data",
          "data": {
            "text/plain": [
              "<Figure size 600x600 with 3 Axes>"
            ],
            "image/png": "[encoded data removed]"
          },
          "metadata": {}
        },
        {
          "output_type": "display_data",
          "data": {
            "text/plain": [
              "<Figure size 600x600 with 3 Axes>"
            ],
            "image/png": "[encoded data removed]"
          },
          "metadata": {}
        },
        {
          "output_type": "display_data",
          "data": {
            "text/plain": [
              "<Figure size 600x600 with 3 Axes>"
            ],
            "image/png": "[encoded data removed]"
          },
          "metadata": {}
        },
        {
          "output_type": "display_data",
          "data": {
            "text/plain": [
              "<Figure size 600x600 with 3 Axes>"
            ],
            "image/png": "[encoded data removed]"
          },
          "metadata": {}
        }
      ]
    },
    {
      "cell_type": "markdown",
      "id": "dff2de1d",
      "metadata": {
        "id": "dff2de1d"
      },
      "source": [
        "### Splitting Data into Training and Test sets"
      ]
    },
    {
      "cell_type": "code",
      "execution_count": 12,
      "id": "98d74144",
      "metadata": {
        "id": "98d74144",
        "outputId": "37e5cb0c-d940-4a9b-c9ee-c3949c39f2cd",
        "colab": {
          "base_uri": "https://localhost:8080/"
        }
      },
      "outputs": [
        {
          "output_type": "execute_result",
          "data": {
            "text/plain": [
              "((1728, 7), (1382, 7), (346, 7))"
            ]
          },
          "metadata": {},
          "execution_count": 12
        }
      ],
      "source": [
        "from sklearn.model_selection import train_test_split\n",
        "\n",
        "train_data, test_data = train_test_split(car_data, test_size=0.2,\n",
        "                                         random_state=220)\n",
        "\n",
        "#print('Dataset size:{}\\ntraining data is: {}\\n\n",
        "#testing data is: {}'.format(len(car_data),\n",
        "#                            len(train_data),len(test_data)))\n",
        "car_data.shape, train_data.shape, test_data.shape"
      ]
    },
    {
      "cell_type": "markdown",
      "id": "ab1127e7",
      "metadata": {
        "id": "ab1127e7"
      },
      "source": [
        "### Checking Summary Statistics"
      ]
    },
    {
      "cell_type": "code",
      "execution_count": 13,
      "id": "753bb539",
      "metadata": {
        "id": "753bb539",
        "collapsed": true,
        "outputId": "8327c325-fa8b-47a8-e882-21f30accbd3d",
        "colab": {
          "base_uri": "https://localhost:8080/",
          "height": 175
        }
      },
      "outputs": [
        {
          "output_type": "execute_result",
          "data": {
            "text/plain": [
              "       buying maint doors persons lug_boot safety binaryClass\n",
              "count    1382  1382  1382    1382     1382   1382        1382\n",
              "unique      4     4     4       3        3      3           2\n",
              "top     vhigh   med     2       2    small   high           P\n",
              "freq      356   355   352     476      478    468         972"
            ],
            "text/html": [
              "\n",
              "  <div id=\"df-c8ac199c-e761-4d72-9024-36a73be036de\" class=\"colab-df-container\">\n",
              "    <div>\n",
              "<style scoped>\n",
              "    .dataframe tbody tr th:only-of-type {\n",
              "        vertical-align: middle;\n",
              "    }\n",
              "\n",
              "    .dataframe tbody tr th {\n",
              "        vertical-align: top;\n",
              "    }\n",
              "\n",
              "    .dataframe thead th {\n",
              "        text-align: right;\n",
              "    }\n",
              "</style>\n",
              "<table border=\"1\" class=\"dataframe\">\n",
              "  <thead>\n",
              "    <tr style=\"text-align: right;\">\n",
              "      <th></th>\n",
              "      <th>buying</th>\n",
              "      <th>maint</th>\n",
              "      <th>doors</th>\n",
              "      <th>persons</th>\n",
              "      <th>lug_boot</th>\n",
              "      <th>safety</th>\n",
              "      <th>binaryClass</th>\n",
              "    </tr>\n",
              "  </thead>\n",
              "  <tbody>\n",
              "    <tr>\n",
              "      <th>count</th>\n",
              "      <td>1382</td>\n",
              "      <td>1382</td>\n",
              "      <td>1382</td>\n",
              "      <td>1382</td>\n",
              "      <td>1382</td>\n",
              "      <td>1382</td>\n",
              "      <td>1382</td>\n",
              "    </tr>\n",
              "    <tr>\n",
              "      <th>unique</th>\n",
              "      <td>4</td>\n",
              "      <td>4</td>\n",
              "      <td>4</td>\n",
              "      <td>3</td>\n",
              "      <td>3</td>\n",
              "      <td>3</td>\n",
              "      <td>2</td>\n",
              "    </tr>\n",
              "    <tr>\n",
              "      <th>top</th>\n",
              "      <td>vhigh</td>\n",
              "      <td>med</td>\n",
              "      <td>2</td>\n",
              "      <td>2</td>\n",
              "      <td>small</td>\n",
              "      <td>high</td>\n",
              "      <td>P</td>\n",
              "    </tr>\n",
              "    <tr>\n",
              "      <th>freq</th>\n",
              "      <td>356</td>\n",
              "      <td>355</td>\n",
              "      <td>352</td>\n",
              "      <td>476</td>\n",
              "      <td>478</td>\n",
              "      <td>468</td>\n",
              "      <td>972</td>\n",
              "    </tr>\n",
              "  </tbody>\n",
              "</table>\n",
              "</div>\n",
              "    <div class=\"colab-df-buttons\">\n",
              "\n",
              "  <div class=\"colab-df-container\">\n",
              "    <button class=\"colab-df-convert\" onclick=\"convertToInteractive('df-c8ac199c-e761-4d72-9024-36a73be036de')\"\n",
              "            title=\"Convert this dataframe to an interactive table.\"\n",
              "            style=\"display:none;\">\n",
              "\n",
              "  <svg xmlns=\"http://www.w3.org/2000/svg\" height=\"24px\" viewBox=\"0 -960 960 960\">\n",
              "    <path d=\"M120-120v-720h720v720H120Zm60-500h600v-160H180v160Zm220 220h160v-160H400v160Zm0 220h160v-160H400v160ZM180-400h160v-160H180v160Zm440 0h160v-160H620v160ZM180-180h160v-160H180v160Zm440 0h160v-160H620v160Z\"/>\n",
              "  </svg>\n",
              "    </button>\n",
              "\n",
              "  <style>\n",
              "    .colab-df-container {\n",
              "      display:flex;\n",
              "      gap: 12px;\n",
              "    }\n",
              "\n",
              "    .colab-df-convert {\n",
              "      background-color: #E8F0FE;\n",
              "      border: none;\n",
              "      border-radius: 50%;\n",
              "      cursor: pointer;\n",
              "      display: none;\n",
              "      fill: #1967D2;\n",
              "      height: 32px;\n",
              "      padding: 0 0 0 0;\n",
              "      width: 32px;\n",
              "    }\n",
              "\n",
              "    .colab-df-convert:hover {\n",
              "      background-color: #E2EBFA;\n",
              "      box-shadow: 0px 1px 2px rgba(60, 64, 67, 0.3), 0px 1px 3px 1px rgba(60, 64, 67, 0.15);\n",
              "      fill: #174EA6;\n",
              "    }\n",
              "\n",
              "    .colab-df-buttons div {\n",
              "      margin-bottom: 4px;\n",
              "    }\n",
              "\n",
              "    [theme=dark] .colab-df-convert {\n",
              "      background-color: #3B4455;\n",
              "      fill: #D2E3FC;\n",
              "    }\n",
              "\n",
              "    [theme=dark] .colab-df-convert:hover {\n",
              "      background-color: #434B5C;\n",
              "      box-shadow: 0px 1px 3px 1px rgba(0, 0, 0, 0.15);\n",
              "      filter: drop-shadow(0px 1px 2px rgba(0, 0, 0, 0.3));\n",
              "      fill: #FFFFFF;\n",
              "    }\n",
              "  </style>\n",
              "\n",
              "    <script>\n",
              "      const buttonEl =\n",
              "        document.querySelector('#df-c8ac199c-e761-4d72-9024-36a73be036de button.colab-df-convert');\n",
              "      buttonEl.style.display =\n",
              "        google.colab.kernel.accessAllowed ? 'block' : 'none';\n",
              "\n",
              "      async function convertToInteractive(key) {\n",
              "        const element = document.querySelector('#df-c8ac199c-e761-4d72-9024-36a73be036de');\n",
              "        const dataTable =\n",
              "          await google.colab.kernel.invokeFunction('convertToInteractive',\n",
              "                                                    [key], {});\n",
              "        if (!dataTable) return;\n",
              "\n",
              "        const docLinkHtml = 'Like what you see? Visit the ' +\n",
              "          '<a target=\"_blank\" href=https://colab.research.google.com/notebooks/data_table.ipynb>data table notebook</a>'\n",
              "          + ' to learn more about interactive tables.';\n",
              "        element.innerHTML = '';\n",
              "        dataTable['output_type'] = 'display_data';\n",
              "        await google.colab.output.renderOutput(dataTable, element);\n",
              "        const docLink = document.createElement('div');\n",
              "        docLink.innerHTML = docLinkHtml;\n",
              "        element.appendChild(docLink);\n",
              "      }\n",
              "    </script>\n",
              "  </div>\n",
              "\n",
              "\n",
              "<div id=\"df-1ad11068-8898-404a-9604-f2d0e8994c2d\">\n",
              "  <button class=\"colab-df-quickchart\" onclick=\"quickchart('df-1ad11068-8898-404a-9604-f2d0e8994c2d')\"\n",
              "            title=\"Suggest charts\"\n",
              "            style=\"display:none;\">\n",
              "\n",
              "<svg xmlns=\"http://www.w3.org/2000/svg\" height=\"24px\"viewBox=\"0 0 24 24\"\n",
              "     width=\"24px\">\n",
              "    <g>\n",
              "        <path d=\"M19 3H5c-1.1 0-2 .9-2 2v14c0 1.1.9 2 2 2h14c1.1 0 2-.9 2-2V5c0-1.1-.9-2-2-2zM9 17H7v-7h2v7zm4 0h-2V7h2v10zm4 0h-2v-4h2v4z\"/>\n",
              "    </g>\n",
              "</svg>\n",
              "  </button>\n",
              "\n",
              "<style>\n",
              "  .colab-df-quickchart {\n",
              "      --bg-color: #E8F0FE;\n",
              "      --fill-color: #1967D2;\n",
              "      --hover-bg-color: #E2EBFA;\n",
              "      --hover-fill-color: #174EA6;\n",
              "      --disabled-fill-color: #AAA;\n",
              "      --disabled-bg-color: #DDD;\n",
              "  }\n",
              "\n",
              "  [theme=dark] .colab-df-quickchart {\n",
              "      --bg-color: #3B4455;\n",
              "      --fill-color: #D2E3FC;\n",
              "      --hover-bg-color: #434B5C;\n",
              "      --hover-fill-color: #FFFFFF;\n",
              "      --disabled-bg-color: #3B4455;\n",
              "      --disabled-fill-color: #666;\n",
              "  }\n",
              "\n",
              "  .colab-df-quickchart {\n",
              "    background-color: var(--bg-color);\n",
              "    border: none;\n",
              "    border-radius: 50%;\n",
              "    cursor: pointer;\n",
              "    display: none;\n",
              "    fill: var(--fill-color);\n",
              "    height: 32px;\n",
              "    padding: 0;\n",
              "    width: 32px;\n",
              "  }\n",
              "\n",
              "  .colab-df-quickchart:hover {\n",
              "    background-color: var(--hover-bg-color);\n",
              "    box-shadow: 0 1px 2px rgba(60, 64, 67, 0.3), 0 1px 3px 1px rgba(60, 64, 67, 0.15);\n",
              "    fill: var(--button-hover-fill-color);\n",
              "  }\n",
              "\n",
              "  .colab-df-quickchart-complete:disabled,\n",
              "  .colab-df-quickchart-complete:disabled:hover {\n",
              "    background-color: var(--disabled-bg-color);\n",
              "    fill: var(--disabled-fill-color);\n",
              "    box-shadow: none;\n",
              "  }\n",
              "\n",
              "  .colab-df-spinner {\n",
              "    border: 2px solid var(--fill-color);\n",
              "    border-color: transparent;\n",
              "    border-bottom-color: var(--fill-color);\n",
              "    animation:\n",
              "      spin 1s steps(1) infinite;\n",
              "  }\n",
              "\n",
              "  @keyframes spin {\n",
              "    0% {\n",
              "      border-color: transparent;\n",
              "      border-bottom-color: var(--fill-color);\n",
              "      border-left-color: var(--fill-color);\n",
              "    }\n",
              "    20% {\n",
              "      border-color: transparent;\n",
              "      border-left-color: var(--fill-color);\n",
              "      border-top-color: var(--fill-color);\n",
              "    }\n",
              "    30% {\n",
              "      border-color: transparent;\n",
              "      border-left-color: var(--fill-color);\n",
              "      border-top-color: var(--fill-color);\n",
              "      border-right-color: var(--fill-color);\n",
              "    }\n",
              "    40% {\n",
              "      border-color: transparent;\n",
              "      border-right-color: var(--fill-color);\n",
              "      border-top-color: var(--fill-color);\n",
              "    }\n",
              "    60% {\n",
              "      border-color: transparent;\n",
              "      border-right-color: var(--fill-color);\n",
              "    }\n",
              "    80% {\n",
              "      border-color: transparent;\n",
              "      border-right-color: var(--fill-color);\n",
              "      border-bottom-color: var(--fill-color);\n",
              "    }\n",
              "    90% {\n",
              "      border-color: transparent;\n",
              "      border-bottom-color: var(--fill-color);\n",
              "    }\n",
              "  }\n",
              "</style>\n",
              "\n",
              "  <script>\n",
              "    async function quickchart(key) {\n",
              "      const quickchartButtonEl =\n",
              "        document.querySelector('#' + key + ' button');\n",
              "      quickchartButtonEl.disabled = true;  // To prevent multiple clicks.\n",
              "      quickchartButtonEl.classList.add('colab-df-spinner');\n",
              "      try {\n",
              "        const charts = await google.colab.kernel.invokeFunction(\n",
              "            'suggestCharts', [key], {});\n",
              "      } catch (error) {\n",
              "        console.error('Error during call to suggestCharts:', error);\n",
              "      }\n",
              "      quickchartButtonEl.classList.remove('colab-df-spinner');\n",
              "      quickchartButtonEl.classList.add('colab-df-quickchart-complete');\n",
              "    }\n",
              "    (() => {\n",
              "      let quickchartButtonEl =\n",
              "        document.querySelector('#df-1ad11068-8898-404a-9604-f2d0e8994c2d button');\n",
              "      quickchartButtonEl.style.display =\n",
              "        google.colab.kernel.accessAllowed ? 'block' : 'none';\n",
              "    })();\n",
              "  </script>\n",
              "</div>\n",
              "\n",
              "    </div>\n",
              "  </div>\n"
            ],
            "application/vnd.google.colaboratory.intrinsic+json": {
              "type": "dataframe",
              "summary": "{\n  \"name\": \"train_data\",\n  \"rows\": 4,\n  \"fields\": [\n    {\n      \"column\": \"buying\",\n      \"properties\": {\n        \"dtype\": \"string\",\n        \"num_unique_values\": 4,\n        \"samples\": [\n          4,\n          \"356\",\n          \"1382\"\n        ],\n        \"semantic_type\": \"\",\n        \"description\": \"\"\n      }\n    },\n    {\n      \"column\": \"maint\",\n      \"properties\": {\n        \"dtype\": \"string\",\n        \"num_unique_values\": 4,\n        \"samples\": [\n          4,\n          \"355\",\n          \"1382\"\n        ],\n        \"semantic_type\": \"\",\n        \"description\": \"\"\n      }\n    },\n    {\n      \"column\": \"doors\",\n      \"properties\": {\n        \"dtype\": \"string\",\n        \"num_unique_values\": 4,\n        \"samples\": [\n          4,\n          \"352\",\n          \"1382\"\n        ],\n        \"semantic_type\": \"\",\n        \"description\": \"\"\n      }\n    },\n    {\n      \"column\": \"persons\",\n      \"properties\": {\n        \"dtype\": \"string\",\n        \"num_unique_values\": 4,\n        \"samples\": [\n          3,\n          \"476\",\n          \"1382\"\n        ],\n        \"semantic_type\": \"\",\n        \"description\": \"\"\n      }\n    },\n    {\n      \"column\": \"lug_boot\",\n      \"properties\": {\n        \"dtype\": \"string\",\n        \"num_unique_values\": 4,\n        \"samples\": [\n          3,\n          \"478\",\n          \"1382\"\n        ],\n        \"semantic_type\": \"\",\n        \"description\": \"\"\n      }\n    },\n    {\n      \"column\": \"safety\",\n      \"properties\": {\n        \"dtype\": \"string\",\n        \"num_unique_values\": 4,\n        \"samples\": [\n          3,\n          \"468\",\n          \"1382\"\n        ],\n        \"semantic_type\": \"\",\n        \"description\": \"\"\n      }\n    },\n    {\n      \"column\": \"binaryClass\",\n      \"properties\": {\n        \"dtype\": \"string\",\n        \"num_unique_values\": 4,\n        \"samples\": [\n          2,\n          \"972\",\n          \"1382\"\n        ],\n        \"semantic_type\": \"\",\n        \"description\": \"\"\n      }\n    }\n  ]\n}"
            }
          },
          "metadata": {},
          "execution_count": 13
        }
      ],
      "source": [
        "# Checking summary statistics\n",
        "\n",
        "train_data.describe()"
      ]
    },
    {
      "cell_type": "markdown",
      "id": "dd6e747c",
      "metadata": {
        "id": "dd6e747c"
      },
      "source": [
        "### Checking Missing Values"
      ]
    },
    {
      "cell_type": "code",
      "execution_count": 14,
      "id": "f0e4fb67",
      "metadata": {
        "id": "f0e4fb67",
        "collapsed": true,
        "outputId": "5a01f5a7-48a6-4e23-c860-de26d8e6aa39",
        "colab": {
          "base_uri": "https://localhost:8080/",
          "height": 304
        }
      },
      "outputs": [
        {
          "output_type": "execute_result",
          "data": {
            "text/plain": [
              "buying         0\n",
              "maint          0\n",
              "doors          0\n",
              "persons        0\n",
              "lug_boot       0\n",
              "safety         0\n",
              "binaryClass    0\n",
              "dtype: int64"
            ],
            "text/html": [
              "<div>\n",
              "<style scoped>\n",
              "    .dataframe tbody tr th:only-of-type {\n",
              "        vertical-align: middle;\n",
              "    }\n",
              "\n",
              "    .dataframe tbody tr th {\n",
              "        vertical-align: top;\n",
              "    }\n",
              "\n",
              "    .dataframe thead th {\n",
              "        text-align: right;\n",
              "    }\n",
              "</style>\n",
              "<table border=\"1\" class=\"dataframe\">\n",
              "  <thead>\n",
              "    <tr style=\"text-align: right;\">\n",
              "      <th></th>\n",
              "      <th>0</th>\n",
              "    </tr>\n",
              "  </thead>\n",
              "  <tbody>\n",
              "    <tr>\n",
              "      <th>buying</th>\n",
              "      <td>0</td>\n",
              "    </tr>\n",
              "    <tr>\n",
              "      <th>maint</th>\n",
              "      <td>0</td>\n",
              "    </tr>\n",
              "    <tr>\n",
              "      <th>doors</th>\n",
              "      <td>0</td>\n",
              "    </tr>\n",
              "    <tr>\n",
              "      <th>persons</th>\n",
              "      <td>0</td>\n",
              "    </tr>\n",
              "    <tr>\n",
              "      <th>lug_boot</th>\n",
              "      <td>0</td>\n",
              "    </tr>\n",
              "    <tr>\n",
              "      <th>safety</th>\n",
              "      <td>0</td>\n",
              "    </tr>\n",
              "    <tr>\n",
              "      <th>binaryClass</th>\n",
              "      <td>0</td>\n",
              "    </tr>\n",
              "  </tbody>\n",
              "</table>\n",
              "</div><br><label><b>dtype:</b> int64</label>"
            ]
          },
          "metadata": {},
          "execution_count": 14
        }
      ],
      "source": [
        "# Checking missing values\n",
        "train_data.isnull().sum()"
      ]
    },
    {
      "cell_type": "markdown",
      "id": "4977a1a1",
      "metadata": {
        "id": "4977a1a1"
      },
      "source": [
        "We don't have any missing values."
      ]
    },
    {
      "cell_type": "markdown",
      "id": "5da8fe66",
      "metadata": {
        "id": "5da8fe66"
      },
      "source": [
        "### Checking Categorical Features"
      ]
    },
    {
      "cell_type": "markdown",
      "id": "ff90081a",
      "metadata": {
        "id": "ff90081a"
      },
      "source": [
        "Let's inspect some categorical features that are in the\n",
        "<br>dataset, almost all . Let's see that!"
      ]
    },
    {
      "cell_type": "code",
      "source": [
        "train_data.columns"
      ],
      "metadata": {
        "id": "RIjHeNzOqaRj",
        "outputId": "b71b4190-2245-4900-8d2d-9687fd15ab6d",
        "colab": {
          "base_uri": "https://localhost:8080/"
        }
      },
      "id": "RIjHeNzOqaRj",
      "execution_count": 15,
      "outputs": [
        {
          "output_type": "execute_result",
          "data": {
            "text/plain": [
              "Index(['buying', 'maint', 'doors', 'persons', 'lug_boot', 'safety',\n",
              "       'binaryClass'],\n",
              "      dtype='object')"
            ]
          },
          "metadata": {},
          "execution_count": 15
        }
      ]
    },
    {
      "cell_type": "code",
      "execution_count": 16,
      "id": "7c5e465c",
      "metadata": {
        "id": "7c5e465c",
        "outputId": "d290fdb7-9494-4a39-a29b-482f49364700",
        "colab": {
          "base_uri": "https://localhost:8080/",
          "height": 241
        }
      },
      "outputs": [
        {
          "output_type": "execute_result",
          "data": {
            "text/plain": [
              "buying\n",
              "vhigh    356\n",
              "low      349\n",
              "med      339\n",
              "high     338\n",
              "Name: count, dtype: int64"
            ],
            "text/html": [
              "<div>\n",
              "<style scoped>\n",
              "    .dataframe tbody tr th:only-of-type {\n",
              "        vertical-align: middle;\n",
              "    }\n",
              "\n",
              "    .dataframe tbody tr th {\n",
              "        vertical-align: top;\n",
              "    }\n",
              "\n",
              "    .dataframe thead th {\n",
              "        text-align: right;\n",
              "    }\n",
              "</style>\n",
              "<table border=\"1\" class=\"dataframe\">\n",
              "  <thead>\n",
              "    <tr style=\"text-align: right;\">\n",
              "      <th></th>\n",
              "      <th>count</th>\n",
              "    </tr>\n",
              "    <tr>\n",
              "      <th>buying</th>\n",
              "      <th></th>\n",
              "    </tr>\n",
              "  </thead>\n",
              "  <tbody>\n",
              "    <tr>\n",
              "      <th>vhigh</th>\n",
              "      <td>356</td>\n",
              "    </tr>\n",
              "    <tr>\n",
              "      <th>low</th>\n",
              "      <td>349</td>\n",
              "    </tr>\n",
              "    <tr>\n",
              "      <th>med</th>\n",
              "      <td>339</td>\n",
              "    </tr>\n",
              "    <tr>\n",
              "      <th>high</th>\n",
              "      <td>338</td>\n",
              "    </tr>\n",
              "  </tbody>\n",
              "</table>\n",
              "</div><br><label><b>dtype:</b> int64</label>"
            ]
          },
          "metadata": {},
          "execution_count": 16
        }
      ],
      "source": [
        "train_data['buying'].value_counts()"
      ]
    },
    {
      "cell_type": "code",
      "execution_count": 17,
      "id": "20c2bde6",
      "metadata": {
        "id": "20c2bde6",
        "colab": {
          "base_uri": "https://localhost:8080/",
          "height": 241
        },
        "outputId": "644bf5fc-dc94-4861-b5e7-a5186089c900"
      },
      "outputs": [
        {
          "output_type": "execute_result",
          "data": {
            "text/plain": [
              "maint\n",
              "med      355\n",
              "vhigh    347\n",
              "low      344\n",
              "high     336\n",
              "Name: count, dtype: int64"
            ],
            "text/html": [
              "<div>\n",
              "<style scoped>\n",
              "    .dataframe tbody tr th:only-of-type {\n",
              "        vertical-align: middle;\n",
              "    }\n",
              "\n",
              "    .dataframe tbody tr th {\n",
              "        vertical-align: top;\n",
              "    }\n",
              "\n",
              "    .dataframe thead th {\n",
              "        text-align: right;\n",
              "    }\n",
              "</style>\n",
              "<table border=\"1\" class=\"dataframe\">\n",
              "  <thead>\n",
              "    <tr style=\"text-align: right;\">\n",
              "      <th></th>\n",
              "      <th>count</th>\n",
              "    </tr>\n",
              "    <tr>\n",
              "      <th>maint</th>\n",
              "      <th></th>\n",
              "    </tr>\n",
              "  </thead>\n",
              "  <tbody>\n",
              "    <tr>\n",
              "      <th>med</th>\n",
              "      <td>355</td>\n",
              "    </tr>\n",
              "    <tr>\n",
              "      <th>vhigh</th>\n",
              "      <td>347</td>\n",
              "    </tr>\n",
              "    <tr>\n",
              "      <th>low</th>\n",
              "      <td>344</td>\n",
              "    </tr>\n",
              "    <tr>\n",
              "      <th>high</th>\n",
              "      <td>336</td>\n",
              "    </tr>\n",
              "  </tbody>\n",
              "</table>\n",
              "</div><br><label><b>dtype:</b> int64</label>"
            ]
          },
          "metadata": {},
          "execution_count": 17
        }
      ],
      "source": [
        "train_data['maint'].value_counts()"
      ]
    },
    {
      "cell_type": "code",
      "execution_count": 18,
      "id": "029946b7",
      "metadata": {
        "id": "029946b7",
        "colab": {
          "base_uri": "https://localhost:8080/",
          "height": 241
        },
        "outputId": "6fd97bcb-61b3-4e62-f3c0-2f24c93f7eb2"
      },
      "outputs": [
        {
          "output_type": "execute_result",
          "data": {
            "text/plain": [
              "doors\n",
              "2        352\n",
              "5more    347\n",
              "3        342\n",
              "4        341\n",
              "Name: count, dtype: int64"
            ],
            "text/html": [
              "<div>\n",
              "<style scoped>\n",
              "    .dataframe tbody tr th:only-of-type {\n",
              "        vertical-align: middle;\n",
              "    }\n",
              "\n",
              "    .dataframe tbody tr th {\n",
              "        vertical-align: top;\n",
              "    }\n",
              "\n",
              "    .dataframe thead th {\n",
              "        text-align: right;\n",
              "    }\n",
              "</style>\n",
              "<table border=\"1\" class=\"dataframe\">\n",
              "  <thead>\n",
              "    <tr style=\"text-align: right;\">\n",
              "      <th></th>\n",
              "      <th>count</th>\n",
              "    </tr>\n",
              "    <tr>\n",
              "      <th>doors</th>\n",
              "      <th></th>\n",
              "    </tr>\n",
              "  </thead>\n",
              "  <tbody>\n",
              "    <tr>\n",
              "      <th>2</th>\n",
              "      <td>352</td>\n",
              "    </tr>\n",
              "    <tr>\n",
              "      <th>5more</th>\n",
              "      <td>347</td>\n",
              "    </tr>\n",
              "    <tr>\n",
              "      <th>3</th>\n",
              "      <td>342</td>\n",
              "    </tr>\n",
              "    <tr>\n",
              "      <th>4</th>\n",
              "      <td>341</td>\n",
              "    </tr>\n",
              "  </tbody>\n",
              "</table>\n",
              "</div><br><label><b>dtype:</b> int64</label>"
            ]
          },
          "metadata": {},
          "execution_count": 18
        }
      ],
      "source": [
        "train_data['doors'].value_counts()"
      ]
    },
    {
      "cell_type": "code",
      "execution_count": 19,
      "id": "e53ec2fa",
      "metadata": {
        "id": "e53ec2fa",
        "colab": {
          "base_uri": "https://localhost:8080/",
          "height": 210
        },
        "outputId": "453f9a4a-3801-4c6e-befa-48cbd5b7a27d"
      },
      "outputs": [
        {
          "output_type": "execute_result",
          "data": {
            "text/plain": [
              "persons\n",
              "2       476\n",
              "4       455\n",
              "more    451\n",
              "Name: count, dtype: int64"
            ],
            "text/html": [
              "<div>\n",
              "<style scoped>\n",
              "    .dataframe tbody tr th:only-of-type {\n",
              "        vertical-align: middle;\n",
              "    }\n",
              "\n",
              "    .dataframe tbody tr th {\n",
              "        vertical-align: top;\n",
              "    }\n",
              "\n",
              "    .dataframe thead th {\n",
              "        text-align: right;\n",
              "    }\n",
              "</style>\n",
              "<table border=\"1\" class=\"dataframe\">\n",
              "  <thead>\n",
              "    <tr style=\"text-align: right;\">\n",
              "      <th></th>\n",
              "      <th>count</th>\n",
              "    </tr>\n",
              "    <tr>\n",
              "      <th>persons</th>\n",
              "      <th></th>\n",
              "    </tr>\n",
              "  </thead>\n",
              "  <tbody>\n",
              "    <tr>\n",
              "      <th>2</th>\n",
              "      <td>476</td>\n",
              "    </tr>\n",
              "    <tr>\n",
              "      <th>4</th>\n",
              "      <td>455</td>\n",
              "    </tr>\n",
              "    <tr>\n",
              "      <th>more</th>\n",
              "      <td>451</td>\n",
              "    </tr>\n",
              "  </tbody>\n",
              "</table>\n",
              "</div><br><label><b>dtype:</b> int64</label>"
            ]
          },
          "metadata": {},
          "execution_count": 19
        }
      ],
      "source": [
        "train_data['persons'].value_counts()"
      ]
    },
    {
      "cell_type": "code",
      "execution_count": 20,
      "id": "d88aefd8",
      "metadata": {
        "id": "d88aefd8",
        "colab": {
          "base_uri": "https://localhost:8080/",
          "height": 868
        },
        "outputId": "7dff6164-6c23-4a42-92e6-efd298599929"
      },
      "outputs": [
        {
          "output_type": "execute_result",
          "data": {
            "text/plain": [
              "<Axes: xlabel='buying', ylabel='count'>"
            ]
          },
          "metadata": {},
          "execution_count": 20
        },
        {
          "output_type": "display_data",
          "data": {
            "text/plain": [
              "<Figure size 1500x1000 with 1 Axes>"
            ],
            "image/png": "[encoded data removed]"
          },
          "metadata": {}
        }
      ],
      "source": [
        "plt.figure(figsize=(15,10))\n",
        "sns.countplot(data=train_data, x='buying')"
      ]
    },
    {
      "cell_type": "code",
      "execution_count": 21,
      "id": "83d9f295",
      "metadata": {
        "id": "83d9f295",
        "colab": {
          "base_uri": "https://localhost:8080/",
          "height": 868
        },
        "outputId": "7b5d12c8-11f3-469a-c20a-3ffa25c2501c"
      },
      "outputs": [
        {
          "output_type": "execute_result",
          "data": {
            "text/plain": [
              "<Axes: xlabel='buying', ylabel='count'>"
            ]
          },
          "metadata": {},
          "execution_count": 21
        },
        {
          "output_type": "display_data",
          "data": {
            "text/plain": [
              "<Figure size 1500x1000 with 1 Axes>"
            ],
            "image/png": "[encoded data removed]"
          },
          "metadata": {}
        }
      ],
      "source": [
        "plt.figure(figsize=(15,10))\n",
        "sns.countplot(data=train_data, x='buying', hue='binaryClass')"
      ]
    },
    {
      "cell_type": "markdown",
      "id": "2a986c09",
      "metadata": {
        "id": "2a986c09"
      },
      "source": [
        "As you can see above, the majority class in the buying price is median(`med`)."
      ]
    },
    {
      "cell_type": "code",
      "execution_count": 22,
      "id": "dc1eadb0",
      "metadata": {
        "id": "dc1eadb0",
        "colab": {
          "base_uri": "https://localhost:8080/",
          "height": 241
        },
        "outputId": "e5f9911c-3d51-4462-f238-25aa9c7feb0b"
      },
      "outputs": [
        {
          "output_type": "execute_result",
          "data": {
            "text/plain": [
              "maint\n",
              "med      355\n",
              "vhigh    347\n",
              "low      344\n",
              "high     336\n",
              "Name: count, dtype: int64"
            ],
            "text/html": [
              "<div>\n",
              "<style scoped>\n",
              "    .dataframe tbody tr th:only-of-type {\n",
              "        vertical-align: middle;\n",
              "    }\n",
              "\n",
              "    .dataframe tbody tr th {\n",
              "        vertical-align: top;\n",
              "    }\n",
              "\n",
              "    .dataframe thead th {\n",
              "        text-align: right;\n",
              "    }\n",
              "</style>\n",
              "<table border=\"1\" class=\"dataframe\">\n",
              "  <thead>\n",
              "    <tr style=\"text-align: right;\">\n",
              "      <th></th>\n",
              "      <th>count</th>\n",
              "    </tr>\n",
              "    <tr>\n",
              "      <th>maint</th>\n",
              "      <th></th>\n",
              "    </tr>\n",
              "  </thead>\n",
              "  <tbody>\n",
              "    <tr>\n",
              "      <th>med</th>\n",
              "      <td>355</td>\n",
              "    </tr>\n",
              "    <tr>\n",
              "      <th>vhigh</th>\n",
              "      <td>347</td>\n",
              "    </tr>\n",
              "    <tr>\n",
              "      <th>low</th>\n",
              "      <td>344</td>\n",
              "    </tr>\n",
              "    <tr>\n",
              "      <th>high</th>\n",
              "      <td>336</td>\n",
              "    </tr>\n",
              "  </tbody>\n",
              "</table>\n",
              "</div><br><label><b>dtype:</b> int64</label>"
            ]
          },
          "metadata": {},
          "execution_count": 22
        }
      ],
      "source": [
        "train_data['maint'].value_counts()"
      ]
    },
    {
      "cell_type": "code",
      "execution_count": 23,
      "id": "433c25f4",
      "metadata": {
        "id": "433c25f4",
        "colab": {
          "base_uri": "https://localhost:8080/",
          "height": 868
        },
        "outputId": "8d48299d-f6e1-4f99-aaee-d987c8195646"
      },
      "outputs": [
        {
          "output_type": "execute_result",
          "data": {
            "text/plain": [
              "<Axes: xlabel='maint', ylabel='count'>"
            ]
          },
          "metadata": {},
          "execution_count": 23
        },
        {
          "output_type": "display_data",
          "data": {
            "text/plain": [
              "<Figure size 1500x1000 with 1 Axes>"
            ],
            "image/png": "[encoded data removed]"
          },
          "metadata": {}
        }
      ],
      "source": [
        "plt.figure(figsize=(15,10))\n",
        "sns.countplot(data=train_data, x='maint')"
      ]
    },
    {
      "cell_type": "code",
      "execution_count": 24,
      "id": "110b9abd",
      "metadata": {
        "id": "110b9abd",
        "colab": {
          "base_uri": "https://localhost:8080/",
          "height": 868
        },
        "outputId": "153385a1-e4e3-47fc-a997-e1a282488227"
      },
      "outputs": [
        {
          "output_type": "execute_result",
          "data": {
            "text/plain": [
              "<Axes: xlabel='maint', ylabel='count'>"
            ]
          },
          "metadata": {},
          "execution_count": 24
        },
        {
          "output_type": "display_data",
          "data": {
            "text/plain": [
              "<Figure size 1500x1000 with 1 Axes>"
            ],
            "image/png": "[encoded data removed]"
          },
          "metadata": {}
        }
      ],
      "source": [
        "plt.figure(figsize=(15,10))\n",
        "sns.countplot(data=train_data, x='maint', hue='binaryClass')"
      ]
    },
    {
      "cell_type": "markdown",
      "id": "b1b2c63b",
      "metadata": {
        "id": "b1b2c63b"
      },
      "source": [
        "Let's also check what's in doors."
      ]
    },
    {
      "cell_type": "code",
      "execution_count": 25,
      "id": "4298a48f",
      "metadata": {
        "id": "4298a48f",
        "colab": {
          "base_uri": "https://localhost:8080/",
          "height": 241
        },
        "outputId": "2eec4848-8119-4106-a315-86449a5904db"
      },
      "outputs": [
        {
          "output_type": "execute_result",
          "data": {
            "text/plain": [
              "doors\n",
              "2        352\n",
              "5more    347\n",
              "3        342\n",
              "4        341\n",
              "Name: count, dtype: int64"
            ],
            "text/html": [
              "<div>\n",
              "<style scoped>\n",
              "    .dataframe tbody tr th:only-of-type {\n",
              "        vertical-align: middle;\n",
              "    }\n",
              "\n",
              "    .dataframe tbody tr th {\n",
              "        vertical-align: top;\n",
              "    }\n",
              "\n",
              "    .dataframe thead th {\n",
              "        text-align: right;\n",
              "    }\n",
              "</style>\n",
              "<table border=\"1\" class=\"dataframe\">\n",
              "  <thead>\n",
              "    <tr style=\"text-align: right;\">\n",
              "      <th></th>\n",
              "      <th>count</th>\n",
              "    </tr>\n",
              "    <tr>\n",
              "      <th>doors</th>\n",
              "      <th></th>\n",
              "    </tr>\n",
              "  </thead>\n",
              "  <tbody>\n",
              "    <tr>\n",
              "      <th>2</th>\n",
              "      <td>352</td>\n",
              "    </tr>\n",
              "    <tr>\n",
              "      <th>5more</th>\n",
              "      <td>347</td>\n",
              "    </tr>\n",
              "    <tr>\n",
              "      <th>3</th>\n",
              "      <td>342</td>\n",
              "    </tr>\n",
              "    <tr>\n",
              "      <th>4</th>\n",
              "      <td>341</td>\n",
              "    </tr>\n",
              "  </tbody>\n",
              "</table>\n",
              "</div><br><label><b>dtype:</b> int64</label>"
            ]
          },
          "metadata": {},
          "execution_count": 25
        }
      ],
      "source": [
        "train_data['doors'].value_counts()"
      ]
    },
    {
      "cell_type": "code",
      "execution_count": 26,
      "id": "477a5113",
      "metadata": {
        "id": "477a5113",
        "colab": {
          "base_uri": "https://localhost:8080/",
          "height": 868
        },
        "outputId": "6a874cf8-a4bd-4b89-b5ac-be029cde3dda"
      },
      "outputs": [
        {
          "output_type": "execute_result",
          "data": {
            "text/plain": [
              "<Axes: xlabel='doors', ylabel='count'>"
            ]
          },
          "metadata": {},
          "execution_count": 26
        },
        {
          "output_type": "display_data",
          "data": {
            "text/plain": [
              "<Figure size 1500x1000 with 1 Axes>"
            ],
            "image/png": "[encoded data removed]"
          },
          "metadata": {}
        }
      ],
      "source": [
        "plt.figure(figsize=(15,10))\n",
        "sns.countplot(data=train_data, x='doors')"
      ]
    },
    {
      "cell_type": "code",
      "execution_count": null,
      "id": "f77d35bd",
      "metadata": {
        "id": "f77d35bd",
        "colab": {
          "base_uri": "https://localhost:8080/",
          "height": 868
        },
        "outputId": "45308ccb-f210-4592-8619-371b60522c43"
      },
      "outputs": [
        {
          "output_type": "execute_result",
          "data": {
            "text/plain": [
              "<Axes: xlabel='doors', ylabel='count'>"
            ]
          },
          "metadata": {},
          "execution_count": 27
        },
        {
          "output_type": "display_data",
          "data": {
            "text/plain": [
              "<Figure size 1500x1000 with 1 Axes>"
            ],
            "image/png": "[encoded data removed]"
          },
          "metadata": {}
        }
      ],
      "source": [
        "plt.figure(figsize=(15,10))\n",
        "sns.countplot(data=train_data, x='doors', hue='binaryClass')"
      ]
    },
    {
      "cell_type": "markdown",
      "id": "1a9ae2a9",
      "metadata": {
        "id": "1a9ae2a9"
      },
      "source": [
        "Nothing stunning in the maintenance cost. All cars share the same maintenance costs."
      ]
    },
    {
      "cell_type": "code",
      "execution_count": null,
      "id": "7dc9bb1f",
      "metadata": {
        "id": "7dc9bb1f"
      },
      "outputs": [],
      "source": [
        "train_data['persons'].value_counts()"
      ]
    },
    {
      "cell_type": "code",
      "execution_count": null,
      "id": "0965bc7e",
      "metadata": {
        "id": "0965bc7e"
      },
      "outputs": [],
      "source": [
        "plt.figure(figsize=(15,10))\n",
        "sns.countplot(data=train_data, x='persons', hue='binaryClass')"
      ]
    },
    {
      "cell_type": "code",
      "execution_count": null,
      "id": "f8fbe08a",
      "metadata": {
        "id": "f8fbe08a"
      },
      "outputs": [],
      "source": [
        "train_data['lug_boot'].value_counts()"
      ]
    },
    {
      "cell_type": "code",
      "execution_count": null,
      "id": "d7e678ef",
      "metadata": {
        "id": "d7e678ef"
      },
      "outputs": [],
      "source": [
        "plt.figure(figsize=(15,10))\n",
        "sns.countplot(data=train_data, x='lug_boot', hue='binaryClass')"
      ]
    },
    {
      "cell_type": "code",
      "execution_count": null,
      "id": "b645aa70",
      "metadata": {
        "id": "b645aa70"
      },
      "outputs": [],
      "source": [
        "train_data['safety'].value_counts()"
      ]
    },
    {
      "cell_type": "code",
      "execution_count": null,
      "id": "0bf059e9",
      "metadata": {
        "id": "0bf059e9"
      },
      "outputs": [],
      "source": [
        "plt.figure(figsize=(15,10))\n",
        "sns.countplot(data=train_data, x='safety', hue='binaryClass')"
      ]
    },
    {
      "cell_type": "code",
      "execution_count": null,
      "id": "f978b550",
      "metadata": {
        "id": "f978b550"
      },
      "outputs": [],
      "source": [
        "train_data['binaryClass'].value_counts()"
      ]
    },
    {
      "cell_type": "code",
      "execution_count": null,
      "id": "7c7b7048",
      "metadata": {
        "id": "7c7b7048"
      },
      "outputs": [],
      "source": [
        "plt.figure(figsize=(15,10))\n",
        "sns.countplot(data=train_data, x='binaryClass')"
      ]
    },
    {
      "cell_type": "markdown",
      "id": "341e0ea8",
      "metadata": {
        "id": "341e0ea8"
      },
      "source": [
        "As you can see, our data is completely skewed/imbalanced. The positive examples are 2x more than negative examples.\n",
        "\n",
        "So we will remember during the model evaluation that accuracy is not the right metric in this case. Real world datasets comes with their unique blends, dataset can be imbalanced. Missing values can be present. We just have to find the effective way to deal with those issues. So again for evaluation, we will not rely on accuracy."
      ]
    },
    {
      "cell_type": "markdown",
      "id": "e6733727",
      "metadata": {
        "id": "e6733727"
      },
      "source": [
        "<a name='4'></a>\n",
        "\n",
        "## 4 - Data Preprocessing\n",
        "\n",
        "It is here that we prepare the data to be in the proper format for the machine learning model.\n",
        "\n",
        "### Handling Categorical Features\n",
        "\n",
        "Decision trees don't care if the features are scaled or not, and they can handle the categorical features. There is a [note on documentation](https://scikit-learn.org/stable/modules/tree.html#tree) that the sklearn tree implementation doesn't support categorical features, so I will go ahead and handle them. It's fun anyways :)"
      ]
    },
    {
      "cell_type": "markdown",
      "id": "9517b46f",
      "metadata": {
        "id": "9517b46f"
      },
      "source": [
        "Before handling categorical features, let's create a training input data and labels."
      ]
    },
    {
      "cell_type": "code",
      "execution_count": null,
      "id": "0766b45b",
      "metadata": {
        "id": "0766b45b"
      },
      "outputs": [],
      "source": [
        "car_train = train_data.drop('binaryClass', axis=1)\n",
        "car_labels = train_data[['binaryClass']]"
      ]
    },
    {
      "cell_type": "markdown",
      "id": "0768adae",
      "metadata": {
        "id": "0768adae"
      },
      "source": [
        "Let's create a pipeline to encode all features in the training input data."
      ]
    },
    {
      "cell_type": "code",
      "execution_count": null,
      "id": "b7ee6d06",
      "metadata": {
        "id": "b7ee6d06"
      },
      "outputs": [],
      "source": [
        "from sklearn.preprocessing import OrdinalEncoder\n",
        "\n",
        "from sklearn.pipeline import Pipeline\n",
        "\n",
        "pipe = Pipeline([('ord_enc', OrdinalEncoder())])\n",
        "\n",
        "car_train_prepared = pipe.fit_transform(car_train)"
      ]
    },
    {
      "cell_type": "markdown",
      "id": "dc414f79",
      "metadata": {
        "id": "dc414f79"
      },
      "source": [
        "Let's also handle labels. Labels contain P and N, <br>so we want to convert those into numbers. Here instead of using Ordinary Encoder,<br> we will use Label Encoder. Sklearn is explicity that it is used to encode target features."
      ]
    },
    {
      "cell_type": "code",
      "execution_count": null,
      "id": "b691edf1",
      "metadata": {
        "id": "b691edf1"
      },
      "outputs": [],
      "source": [
        "from sklearn.preprocessing import LabelEncoder\n",
        "\n",
        "label_enc = LabelEncoder()\n",
        "\n",
        "car_labels_prepared = label_enc.fit_transform(car_labels)"
      ]
    },
    {
      "cell_type": "code",
      "source": [
        "car_train_prepared.shape, car_labels_prepared.shape"
      ],
      "metadata": {
        "id": "6lOZOt51tEKb"
      },
      "id": "6lOZOt51tEKb",
      "execution_count": null,
      "outputs": []
    },
    {
      "cell_type": "markdown",
      "id": "dd496de6",
      "metadata": {
        "id": "dd496de6"
      },
      "source": [
        "<a name='5'></a>\n",
        "\n",
        "## 5 - Training Decision Tree Classifier\n"
      ]
    },
    {
      "cell_type": "code",
      "execution_count": null,
      "id": "8311b87a",
      "metadata": {
        "id": "8311b87a"
      },
      "outputs": [],
      "source": [
        "from sklearn.tree import DecisionTreeClassifier\n",
        "\n",
        "tree_clf = DecisionTreeClassifier()\n",
        "tree_clf.set_params(class_weight='balanced', criterion='entropy')\n",
        "\n",
        "tree_clf.fit(car_train_prepared, car_labels_prepared)"
      ]
    },
    {
      "cell_type": "markdown",
      "id": "757c0a01",
      "metadata": {
        "id": "757c0a01"
      },
      "source": [
        "Let's train the same model on the scaled data."
      ]
    },
    {
      "cell_type": "code",
      "execution_count": null,
      "id": "9e0e5e9b",
      "metadata": {
        "id": "9e0e5e9b"
      },
      "outputs": [],
      "source": [
        "from sklearn.tree import plot_tree\n",
        "\n",
        "plt.figure(figsize=(20,15))\n",
        "plot_tree(tree_clf, feature_names=car_train.columns,\n",
        "          class_names=['N','P']);\n",
        "\n"
      ]
    },
    {
      "cell_type": "code",
      "execution_count": null,
      "id": "ea28474e",
      "metadata": {
        "id": "ea28474e"
      },
      "outputs": [],
      "source": [
        "# if you run this, it will be error.\n",
        "# SKlearn tree implementation doesn't support categorical features\n",
        "\n",
        "#from sklearn.tree import DecisionTreeClassifier\n",
        "\n",
        "#tree_clf = DecisionTreeClassifier()\n",
        "\n",
        "#tree_clf.fit(car_train, car_labels)"
      ]
    },
    {
      "cell_type": "markdown",
      "id": "9afb9bde",
      "metadata": {
        "id": "9afb9bde"
      },
      "source": [
        "<a name='6'></a>\n",
        "\n",
        "## 6 - Evaluating Decision Trees\n",
        "\n",
        "Let's build 3 functions to display accuracy, confusion matrix,<br> and classification report. Classification report contains all <br>useful metrics such as precision, recall, and f1 score."
      ]
    },
    {
      "cell_type": "code",
      "execution_count": null,
      "id": "6962359e",
      "metadata": {
        "id": "6962359e"
      },
      "outputs": [],
      "source": [
        "from sklearn.metrics import accuracy_score, classification_report,\\\n",
        "confusion_matrix\n",
        "\n",
        "preds = tree_clf.predict(car_train_prepared)\n",
        "print(f\"Accuracy:{accuracy_score(car_labels_prepared, preds)}\")\n",
        "print(f\"ClassReport:{classification_report(car_labels_prepared,preds)}\")\n",
        "print(f\"Confusion Matrix:{confusion_matrix(car_labels_prepared,preds)}\")\n"
      ]
    },
    {
      "cell_type": "code",
      "execution_count": null,
      "id": "a17fed16",
      "metadata": {
        "id": "a17fed16"
      },
      "outputs": [],
      "source": [
        "accuracy_score(car_labels_prepared,preds)"
      ]
    },
    {
      "cell_type": "code",
      "execution_count": null,
      "id": "0f92566d",
      "metadata": {
        "id": "0f92566d"
      },
      "outputs": [],
      "source": [
        "tree_clf.get_params()"
      ]
    },
    {
      "cell_type": "markdown",
      "id": "af110f75",
      "metadata": {
        "id": "af110f75"
      },
      "source": [
        "One way to avoid overfitting is reduce number maximum depth of the tree, set by the hyperparameter `max_depth`. Similarly, we can attempt to reduce all hyperparameters with `max`term while also increasing the `min_` term parameters.\n",
        "\n",
        "Also, I set the `class_weight` to `balanced` because our dataset is imbalanced. By setting it to balanced, the model will automatically adjust the class weight based on the number of available samples in all classes.\n",
        "\n",
        "\n",
        "Let's use GridSearch to find best values of these hyperparameters."
      ]
    },
    {
      "cell_type": "code",
      "execution_count": null,
      "id": "18f52052",
      "metadata": {
        "id": "18f52052"
      },
      "outputs": [],
      "source": [
        "# Let's hide warnings returned by grid search\n",
        "\n",
        "import warnings\n",
        "warnings.filterwarnings('ignore')"
      ]
    },
    {
      "cell_type": "code",
      "execution_count": null,
      "id": "056818ed",
      "metadata": {
        "id": "056818ed"
      },
      "outputs": [],
      "source": [
        "from sklearn.model_selection import GridSearchCV\n",
        "\n",
        "params_grid = {'max_leaf_nodes': list(range(0, 10)),\n",
        "               'min_samples_split': [0,1,2, 3, 4],\n",
        "               'min_samples_leaf': [0,1,2, 3, 4],\n",
        "               'max_depth':[0,1,2,3,4,5],\n",
        "               'max_features':[0,1,2,3,4,5],\n",
        "              'max_leaf_nodes':[0,1,2,3,4,5]}\n",
        "\n",
        "#refit is true by default. The best estimator is trained on the whole dataset\n",
        "\n",
        "grid_search = GridSearchCV(DecisionTreeClassifier(random_state=42, class_weight='balanced'), params_grid, verbose=1, cv=3, refit=True)\n",
        "\n",
        "grid_search.fit(car_train_prepared, car_labels_prepared)"
      ]
    },
    {
      "cell_type": "code",
      "execution_count": null,
      "id": "55a5d7f3",
      "metadata": {
        "id": "55a5d7f3"
      },
      "outputs": [],
      "source": [
        "grid_search.best_params_"
      ]
    },
    {
      "cell_type": "code",
      "execution_count": null,
      "id": "c4a1488d",
      "metadata": {
        "id": "c4a1488d"
      },
      "outputs": [],
      "source": [
        "grid_search.best_estimator_"
      ]
    },
    {
      "cell_type": "code",
      "execution_count": null,
      "id": "4995ab2d",
      "metadata": {
        "id": "4995ab2d"
      },
      "outputs": [],
      "source": [
        "tree_best = grid_search.best_estimator_"
      ]
    },
    {
      "cell_type": "markdown",
      "id": "0631c68d",
      "metadata": {
        "id": "0631c68d"
      },
      "source": [
        "We can also plot the tree of the improved model."
      ]
    },
    {
      "cell_type": "code",
      "execution_count": null,
      "id": "bb3a6292",
      "metadata": {
        "id": "bb3a6292"
      },
      "outputs": [],
      "source": [
        "car_data.columns"
      ]
    },
    {
      "cell_type": "code",
      "execution_count": null,
      "id": "bc930bc3",
      "metadata": {
        "id": "bc930bc3"
      },
      "outputs": [],
      "source": [
        "from sklearn.tree import plot_tree\n",
        "\n",
        "plt.figure(figsize=(20,15))\n",
        "plot_tree(tree_best, feature_names=car_train.columns, class_names=['N','P']);"
      ]
    },
    {
      "cell_type": "markdown",
      "id": "44fc64ef",
      "metadata": {
        "id": "44fc64ef"
      },
      "source": [
        "Let's make prediction on the training data again."
      ]
    },
    {
      "cell_type": "code",
      "execution_count": null,
      "id": "85b1b211",
      "metadata": {
        "id": "85b1b211"
      },
      "outputs": [],
      "source": [
        "accuracy(car_train_prepared, tree_best, car_labels_prepared)"
      ]
    },
    {
      "cell_type": "code",
      "execution_count": null,
      "id": "d6e03505",
      "metadata": {
        "id": "d6e03505"
      },
      "outputs": [],
      "source": [
        "conf_matrix(car_train_prepared, tree_best, car_labels_prepared)"
      ]
    },
    {
      "cell_type": "markdown",
      "id": "5fd20f6c",
      "metadata": {
        "id": "5fd20f6c"
      },
      "source": [
        "In confusion matrix, each row represent an actual class and each column represents predicted class.\n",
        "\n",
        "So, from the results above:\n",
        "\n",
        "* 430 negative examples(N) were correcty predicted as negatives(`true negatives`).\n",
        "* 28 negatives examples(N) were incorrectly classified as positive examples when they are in fact negatives(`false positives`).\n",
        "* 139 positive examples were incorrectly classified as negative(N) when in fact they are positives(P) (`false negatives`).\n",
        "* 958 were correctly classified as positive examples(`true positives`)."
      ]
    },
    {
      "cell_type": "code",
      "execution_count": null,
      "id": "bfe10646",
      "metadata": {
        "id": "bfe10646"
      },
      "outputs": [],
      "source": [
        "class_report(car_train_prepared, tree_best, car_labels_prepared)"
      ]
    },
    {
      "cell_type": "markdown",
      "id": "c62a574a",
      "metadata": {
        "id": "c62a574a"
      },
      "source": [
        "Wow, this is much better. By only setting the class weight to `balanced` and finding the best values of the hyperparameters, we were able to improve our model.\n",
        "\n",
        "If you remember, the negative class has fewer examples than the positive classes. You can see them in `support` in classification report. But our model is able to identify them correctly at 76%, and also is able to identify the positive examples at 97% without overfitting. That is precision.\n",
        "\n",
        "A few notes about Precison/Recall/F1 score:\n",
        "\n",
        "* Precision is the model accuracy on predicting positive examples correctly.\n",
        "* Recall is the ratio of the positive examples that are correctly identified by the model.\n",
        "\n",
        "* F1 score is the harmonic mean of precision and recall.\n",
        "\n",
        "The higher the precision and recall are, the higher the F1 score. But there is a tradeoff between them. Increasing precision will reduce recall, and vice versa. So it's fair to say that it depends on the problem you're trying to solve and the metrics you want to optimize for.\n"
      ]
    },
    {
      "cell_type": "markdown",
      "id": "d96d0b2f",
      "metadata": {
        "id": "d96d0b2f"
      },
      "source": [
        "### Evaluating the model on the test set"
      ]
    },
    {
      "cell_type": "markdown",
      "id": "21d18db2",
      "metadata": {
        "id": "21d18db2"
      },
      "source": [
        "It is only after we have improved the model that we can feed it to the test set. If we try to show the test set to the model while we are still training, we may cause a potential leak thus producing misleading predictions.\n",
        "\n",
        "Also, we will apply the same processing functions that we applied to the training set."
      ]
    },
    {
      "cell_type": "code",
      "execution_count": null,
      "id": "3e4f6abb",
      "metadata": {
        "id": "3e4f6abb"
      },
      "outputs": [],
      "source": [
        "car_test = test_data.drop('binaryClass', axis=1)\n",
        "car_test_labels = test_data['binaryClass']"
      ]
    },
    {
      "cell_type": "code",
      "execution_count": null,
      "id": "18686a6d",
      "metadata": {
        "id": "18686a6d"
      },
      "outputs": [],
      "source": [
        "# Handling the categorical features with the pipeline that we defined early\n",
        "# We don't fit on the test data. Only transform\n",
        "\n",
        "car_test_prepared = pipe.transform(car_test)"
      ]
    },
    {
      "cell_type": "code",
      "execution_count": null,
      "id": "4e320e33",
      "metadata": {
        "id": "4e320e33"
      },
      "outputs": [],
      "source": [
        "# Handle labels too\n",
        "\n",
        "car_test_labels_prepared = label_enc.transform(car_test_labels)"
      ]
    },
    {
      "cell_type": "markdown",
      "id": "f12a3457",
      "metadata": {
        "id": "f12a3457"
      },
      "source": [
        "Now we can make predictions on the test set. We will only have to call the metrics functions we created previously."
      ]
    },
    {
      "cell_type": "code",
      "execution_count": null,
      "id": "b0ead3bd",
      "metadata": {
        "id": "b0ead3bd"
      },
      "outputs": [],
      "source": [
        "accuracy(car_test_prepared, tree_best, car_test_labels_prepared)"
      ]
    },
    {
      "cell_type": "code",
      "execution_count": null,
      "id": "8d5414f6",
      "metadata": {
        "id": "8d5414f6"
      },
      "outputs": [],
      "source": [
        "conf_matrix(car_test_prepared, tree_best, car_test_labels_prepared)"
      ]
    },
    {
      "cell_type": "code",
      "execution_count": null,
      "id": "0c63170a",
      "metadata": {
        "id": "0c63170a"
      },
      "outputs": [],
      "source": [
        "class_report(car_test_prepared, tree_best, car_test_labels_prepared)"
      ]
    },
    {
      "cell_type": "markdown",
      "id": "2c7eda1f",
      "metadata": {
        "id": "2c7eda1f"
      },
      "source": [
        "The model never saw the test set but as you can see, the results are truly remarkable. The model can generalize well on the test set and that is because we improved it in the right ways."
      ]
    },
    {
      "cell_type": "markdown",
      "id": "c7e86c6d",
      "metadata": {
        "id": "c7e86c6d"
      },
      "source": [
        "This is the end of the notebook. We have learned how to build and how to regularize( or handle overfitting) the decion trees classifier."
      ]
    },
    {
      "cell_type": "markdown",
      "id": "17af5728",
      "metadata": {
        "id": "17af5728"
      },
      "source": [
        "[Back to top](#0)"
      ]
    },
    {
      "cell_type": "code",
      "execution_count": null,
      "id": "620a4d3e",
      "metadata": {
        "id": "620a4d3e"
      },
      "outputs": [],
      "source": []
    }
  ],
  "metadata": {
    "colab": {
      "provenance": [],
      "include_colab_link": true
    },
    "kernelspec": {
      "display_name": "Python 3 (ipykernel)",
      "language": "python",
      "name": "python3"
    },
    "language_info": {
      "codemirror_mode": {
        "name": "ipython",
        "version": 3
      },
      "file_extension": ".py",
      "mimetype": "text/x-python",
      "name": "python",
      "nbconvert_exporter": "python",
      "pygments_lexer": "ipython3",
      "version": "3.9.15"
    }
  },
  "nbformat": 4,
  "nbformat_minor": 5
}